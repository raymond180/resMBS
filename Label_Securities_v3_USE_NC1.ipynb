{
 "cells": [
  {
   "cell_type": "code",
   "execution_count": null,
   "metadata": {},
   "outputs": [],
   "source": [
    "import pandas as pd\n",
    "import numpy as np\n",
    "\n",
    "import matplotlib.pyplot as plt\n",
    "from IPython.display import set_matplotlib_formats\n",
    "set_matplotlib_formats('retina')\n",
    "\n",
    "import datetime"
   ]
  },
  {
   "cell_type": "code",
   "execution_count": null,
   "metadata": {},
   "outputs": [],
   "source": [
    "nc1 = pd.read_csv('get_shortfall_sorted_firstTime.csv')\n",
    "nc1 = nc1.drop(nc1[nc1['Data'] == '#N/A Limit: Monthly'].index)\n",
    "nc1 = nc1.dropna()\n",
    "nc1['Year'] = nc1['NAME'].apply(lambda x: x[x.find('-')-4:x.find('-'):])"
   ]
  },
  {
   "cell_type": "code",
   "execution_count": null,
   "metadata": {},
   "outputs": [],
   "source": [
    "def make_dict(x):\n",
    "    d = {}\n",
    "    for n in range(0,len(x)-1,2):\n",
    "        if (x[n+1] == '#N/A N/A'): x[n+1]= np.nan\n",
    "        else : x[n+1] = float(x[n+1])\n",
    "        date = str(x[n]).split('/')\n",
    "        d[datetime.date(int(date[2]),int(date[0]),int(date[1]))] = x[n+1]\n",
    "    return d\n",
    "make_dict_vectorize = np.vectorize(make_dict)"
   ]
  },
  {
   "cell_type": "code",
   "execution_count": null,
   "metadata": {},
   "outputs": [],
   "source": [
    "nc1['Data_dict'] = make_dict_vectorize(nc1['Data'].str.split(','))"
   ]
  },
  {
   "cell_type": "code",
   "execution_count": null,
   "metadata": {},
   "outputs": [],
   "source": [
    "#plt.plot(list(nc1['Data_dict'][1].keys()),list(nc1['Data_dict'][1].values()))"
   ]
  },
  {
   "cell_type": "code",
   "execution_count": null,
   "metadata": {},
   "outputs": [],
   "source": [
    "def make_dict_noNaN(x):\n",
    "    d = {}\n",
    "    for n in range(0,len(x)-1,2): \n",
    "        if (x[n+1] == '#N/A N/A'): pass\n",
    "        else :\n",
    "            x[n+1] = float(x[n+1])\n",
    "            date = str(x[n]).split('/')\n",
    "            d[datetime.date(int(date[2]),int(date[0]),int(date[1]))] = x[n+1]\n",
    "    if (d):return d\n",
    "    else : return np.nan\n",
    "make_dict_noNaN_vectorize = np.vectorize(make_dict_noNaN)"
   ]
  },
  {
   "cell_type": "code",
   "execution_count": null,
   "metadata": {},
   "outputs": [],
   "source": [
    "nc1['Data_dict_noNaN'] = make_dict_noNaN_vectorize(nc1['Data'].str.split(','))"
   ]
  },
  {
   "cell_type": "code",
   "execution_count": null,
   "metadata": {},
   "outputs": [],
   "source": [
    "nc1 = nc1.dropna()\n",
    "nc1['Data_dict_plot'] = nc1['Data_dict_noNaN'].apply(lambda x: (list(x.keys()),list(x.values())))"
   ]
  },
  {
   "cell_type": "code",
   "execution_count": null,
   "metadata": {},
   "outputs": [],
   "source": [
    "nc1['Year'].unique()"
   ]
  },
  {
   "cell_type": "code",
   "execution_count": null,
   "metadata": {},
   "outputs": [],
   "source": [
    "def earliest(x):\n",
    "    return x[0][-1]\n",
    "earliest_vectorize = np.vectorize(earliest)\n",
    "early = earliest_vectorize(nc1['Data_dict_plot'])\n",
    "print(early)"
   ]
  },
  {
   "cell_type": "code",
   "execution_count": null,
   "metadata": {},
   "outputs": [],
   "source": [
    "nc1.index = np.arange(1,nc1.shape[0]+1)\n",
    "nc1 = nc1.dropna()"
   ]
  },
  {
   "cell_type": "code",
   "execution_count": null,
   "metadata": {},
   "outputs": [],
   "source": [
    "from pathlib import Path\n",
    "import os\n",
    "\n",
    "# Reset index and drop nan\n",
    "nc1.index = np.arange(1,nc1.shape[0]+1)\n",
    "nc1 = nc1.dropna()\n",
    "\n",
    "# year parameter\n",
    "year_from = \"2006\"\n",
    "year_end = \"2012\"\n",
    "\n",
    "# directory parameter\n",
    "data_folder = Path(r'C:\\Users\\cchen07\\Desktop\\NC1_images') \n",
    "#sub_folder = data_folder / (year_from+\"to\"+year_end)\n",
    "\n",
    "#data_folder = Path(\"D:/resMBS/NC1_images\")\n",
    "suffix = ''\n",
    "if suffix : sub_folder = data_folder / (year_from+\"to\"+year_end+\"_\"+suffix)\n",
    "else : sub_folder = data_folder / (year_from+\"to\"+year_end)\n",
    "\n",
    "# create directory\n",
    "try:\n",
    "    os.mkdir(sub_folder)\n",
    "except OSError:  \n",
    "    print (\"Creation of the directory %s failed\" % sub_folder)\n",
    "else:  \n",
    "    print (\"Successfully created the directory %s \" % sub_folder)\n",
    "\n",
    "#for n in range(1,10):\n",
    "for n in range(0,nc1.shape[0]):\n",
    "    nc1_n = nc1.iloc[n]\n",
    "    nc1_n_Data_dict_plot = nc1_n['Data_dict_plot']\n",
    "    fig = plt.figure()\n",
    "    plt.xlim(np.datetime64(year_from), np.datetime64(year_end))\n",
    "    \n",
    "    #plt.plot(nc1_n_Data_dict_plot[0],nc1_n_Data_dict_plot[1],marker='o')\n",
    "    \n",
    "    values = pd.Series(nc1_n_Data_dict_plot[1]).iloc[::-1]\n",
    "    cumsum = values.cumsum()\n",
    "    dates = pd.Series(nc1_n_Data_dict_plot[0]).iloc[::-1]\n",
    "    plt.plot(dates,values,'o',dates,cumsum,'^')\n",
    "    \n",
    "    plt.xlabel('Time')\n",
    "    plt.ylabel('Short Fall Amount')\n",
    "    name = str(nc1_n['NAME'])+' - '+ str(nc1_n['SHORTFALL_TYPE'])\n",
    "    plt.title(name)\n",
    "    file_name = sub_folder / (name+\".png\")\n",
    "    plt.savefig(file_name,dpi=300,orientation='landscape',format='png')\n",
    "    plt.close(fig)"
   ]
  },
  {
   "cell_type": "code",
   "execution_count": null,
   "metadata": {},
   "outputs": [],
   "source": [
    "from pathlib import Path\n",
    "import os\n",
    "\n",
    "# Reset index and drop nan\n",
    "nc1.index = np.arange(1,nc1.shape[0]+1)\n",
    "nc1 = nc1.dropna()\n",
    "\n",
    "# year parameter\n",
    "year_from = \"2006\"\n",
    "year_end = \"2012\"\n",
    "\n",
    "# directory parameter\n",
    "data_folder = Path(r'C:\\Users\\cchen07\\Desktop\\NC1_images') \n",
    "#sub_folder = data_folder / (year_from+\"to\"+year_end)\n",
    "\n",
    "#data_folder = Path(\"D:/resMBS/NC1_images\")\n",
    "suffix = 'standardized'\n",
    "if suffix : sub_folder = data_folder / (year_from+\"to\"+year_end+\"_\"+suffix)\n",
    "else : sub_folder = data_folder / (year_from+\"to\"+year_end)\n",
    "\n",
    "# create directory\n",
    "try:\n",
    "    os.mkdir(sub_folder)\n",
    "except OSError:  \n",
    "    print (\"Creation of the directory %s failed\" % sub_folder)\n",
    "else:  \n",
    "    print (\"Successfully created the directory %s \" % sub_folder)\n",
    "\n",
    "#for n in range(1,10):\n",
    "for n in range(0,nc1.shape[0]):\n",
    "    nc1_n = nc1.iloc[n]\n",
    "    nc1_n_Data_dict_plot = nc1_n['Data_dict_plot']\n",
    "    fig = plt.figure()\n",
    "    plt.xlim(np.datetime64(year_from), np.datetime64(year_end))\n",
    "    \n",
    "    #plt.plot(nc1_n_Data_dict_plot[0],nc1_n_Data_dict_plot[1],marker='o')\n",
    "    \n",
    "    values = pd.Series(nc1_n_Data_dict_plot[1]).iloc[::-1]\n",
    "    standardized_values = (values-values.mean()) / values.std()\n",
    "    standardized_cumsum = standardized_values.cumsum()\n",
    "    dates = pd.Series(nc1_n_Data_dict_plot[0]).iloc[::-1]\n",
    "    plt.plot(dates,standardized_values,'o',dates,standardized_cumsum,'^')\n",
    "    \n",
    "    plt.xlabel('Time')\n",
    "    plt.ylabel('Short Fall Amount')\n",
    "    name = str(nc1_n['NAME'])+' - '+ str(nc1_n['SHORTFALL_TYPE'])\n",
    "    plt.title(name)\n",
    "    file_name = sub_folder / (name+\".png\")\n",
    "    plt.savefig(file_name,dpi=300,orientation='landscape',format='png')\n",
    "    plt.close(fig)"
   ]
  },
  {
   "cell_type": "code",
   "execution_count": null,
   "metadata": {},
   "outputs": [],
   "source": [
    "#a.apply(lambda x: plt.plot)"
   ]
  },
  {
   "cell_type": "code",
   "execution_count": null,
   "metadata": {},
   "outputs": [],
   "source": [
    "\"\"\"\"\n",
    "def export_pic(x):\n",
    "    plt.plot(x)\n",
    "    return plt.savefig('image/a.png')\n",
    "export_pic_vectorize = np.vectorize(export_pic)\n",
    "\n",
    "export_pic_vectorize(nc1['Data_dict_plot'])\n",
    "\"\"\"\""
   ]
  },
  {
   "cell_type": "code",
   "execution_count": null,
   "metadata": {},
   "outputs": [],
   "source": []
  }
 ],
 "metadata": {
  "kernelspec": {
   "display_name": "Python 3",
   "language": "python",
   "name": "python3"
  },
  "language_info": {
   "codemirror_mode": {
    "name": "ipython",
    "version": 3
   },
   "file_extension": ".py",
   "mimetype": "text/x-python",
   "name": "python",
   "nbconvert_exporter": "python",
   "pygments_lexer": "ipython3",
   "version": "3.7.0"
  }
 },
 "nbformat": 4,
 "nbformat_minor": 2
}
