{
 "cells": [
  {
   "cell_type": "code",
   "execution_count": 1,
   "metadata": {},
   "outputs": [],
   "source": [
    "import pandas as pd\n",
    "import numpy as np\n",
    "\n",
    "%matplotlib inline\n",
    "import matplotlib\n",
    "import matplotlib.pyplot as plt\n",
    "from IPython.display import set_matplotlib_formats\n",
    "set_matplotlib_formats('retina')"
   ]
  },
  {
   "cell_type": "markdown",
   "metadata": {},
   "source": [
    "## Load Data"
   ]
  },
  {
   "cell_type": "code",
   "execution_count": 2,
   "metadata": {},
   "outputs": [],
   "source": [
    "join_data = pd.read_csv('FI_TW_Prop_all_v3.csv')"
   ]
  },
  {
   "cell_type": "code",
   "execution_count": 3,
   "metadata": {},
   "outputs": [],
   "source": [
    "parent_data = pd.read_pickle('parent_data')"
   ]
  },
  {
   "cell_type": "markdown",
   "metadata": {},
   "source": [
    "## Data Validation"
   ]
  },
  {
   "cell_type": "code",
   "execution_count": 4,
   "metadata": {
    "scrolled": true
   },
   "outputs": [
    {
     "name": "stdout",
     "output_type": "stream",
     "text": [
      "we have 31811 rows of join_data\n",
      "we have 31811 rows of parent_data\n",
      "same size\n",
      "Percentage of data that is labeled USE: 86.74% of data\n"
     ]
    }
   ],
   "source": [
    "print('we have {} rows of join_data'.format(join_data.shape[0]))\n",
    "print('we have {} rows of parent_data'.format(parent_data.shape[0]))\n",
    "if ((join_data.shape[0]-parent_data.shape[0]) == 0) : print('same size')\n",
    "else : print('different size!!')\n",
    "print('Percentage of data that is labeled USE: {:.2f}% of data'.format(join_data['USE'].mean()*100))"
   ]
  },
  {
   "cell_type": "markdown",
   "metadata": {},
   "source": [
    "### Duplicated Rows"
   ]
  },
  {
   "cell_type": "code",
   "execution_count": 5,
   "metadata": {},
   "outputs": [
    {
     "name": "stdout",
     "output_type": "stream",
     "text": [
      "keep=false shows all duplicated instace so there are 326 rows that are duplicated.\n"
     ]
    }
   ],
   "source": [
    "num_duplicated = join_data.loc[join_data.duplicated(keep=False)].shape[0]\n",
    "print('keep=false shows all duplicated instace so there are {} rows that are duplicated.'.format(num_duplicated))"
   ]
  },
  {
   "cell_type": "code",
   "execution_count": 6,
   "metadata": {},
   "outputs": [
    {
     "name": "stdout",
     "output_type": "stream",
     "text": [
      "We use 0 of all duplicated rows\n"
     ]
    }
   ],
   "source": [
    "a = join_data.loc[join_data.duplicated(keep=False)]['USE'] > 0\n",
    "a.sum()\n",
    "print('We use {} of all duplicated rows'.format(a.sum()))"
   ]
  },
  {
   "cell_type": "code",
   "execution_count": 7,
   "metadata": {},
   "outputs": [
    {
     "name": "stdout",
     "output_type": "stream",
     "text": [
      "Number of duplicated instace that we should delete is 163 rows \n"
     ]
    }
   ],
   "source": [
    "num_to_delete = join_data.loc[join_data.duplicated()].shape[0]\n",
    "print('Number of duplicated instace that we should delete is {} rows '.format(num_duplicated-num_to_delete))"
   ]
  },
  {
   "cell_type": "code",
   "execution_count": 8,
   "metadata": {},
   "outputs": [
    {
     "name": "stdout",
     "output_type": "stream",
     "text": [
      "Assign the new join_data that has duplicated rows dropped to no_duplicated_join_data\n"
     ]
    }
   ],
   "source": [
    "no_duplicated_join_data = join_data.drop_duplicates()\n",
    "print('Assign the new join_data that has duplicated rows dropped to no_duplicated_join_data')"
   ]
  },
  {
   "cell_type": "code",
   "execution_count": 9,
   "metadata": {},
   "outputs": [
    {
     "name": "stdout",
     "output_type": "stream",
     "text": [
      "no_duplicated_join_data use 87.19% of data\n"
     ]
    }
   ],
   "source": [
    "print('no_duplicated_join_data use {:.2f}% of data'.format(no_duplicated_join_data['USE'].mean()*100))"
   ]
  }
 ],
 "metadata": {
  "kernelspec": {
   "display_name": "Python 3",
   "language": "python",
   "name": "python3"
  },
  "language_info": {
   "codemirror_mode": {
    "name": "ipython",
    "version": 3
   },
   "file_extension": ".py",
   "mimetype": "text/x-python",
   "name": "python",
   "nbconvert_exporter": "python",
   "pygments_lexer": "ipython3",
   "version": "3.6.7"
  }
 },
 "nbformat": 4,
 "nbformat_minor": 2
}
