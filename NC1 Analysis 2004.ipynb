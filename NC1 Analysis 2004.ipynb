{
 "cells": [
  {
   "cell_type": "code",
   "execution_count": 1,
   "metadata": {},
   "outputs": [],
   "source": [
    "import pandas as pd\n",
    "import numpy as np\n",
    "\n",
    "%matplotlib inline\n",
    "import matplotlib\n",
    "import matplotlib.pyplot as plt\n",
    "from IPython.display import set_matplotlib_formats\n",
    "set_matplotlib_formats('retina')"
   ]
  },
  {
   "cell_type": "markdown",
   "metadata": {},
   "source": [
    "This notebook shows some basics stats about securities labeled as NC1"
   ]
  },
  {
   "cell_type": "markdown",
   "metadata": {},
   "source": [
    "## Load Data"
   ]
  },
  {
   "cell_type": "code",
   "execution_count": 2,
   "metadata": {},
   "outputs": [],
   "source": [
    "data = pd.read_csv('trimmed_2004_v2.csv')"
   ]
  },
  {
   "cell_type": "code",
   "execution_count": 3,
   "metadata": {},
   "outputs": [],
   "source": [
    "#Get all rows with NC1\n",
    "nc1 = data.loc[data['Label'] == 'NC1(failing)']"
   ]
  },
  {
   "cell_type": "markdown",
   "metadata": {},
   "source": [
    "## Data Validation"
   ]
  },
  {
   "cell_type": "code",
   "execution_count": 4,
   "metadata": {},
   "outputs": [
    {
     "name": "stdout",
     "output_type": "stream",
     "text": [
      "we have 4450 rows of data\n",
      "we have 461 rows of NC1\n",
      "percentage: 10.36%\n"
     ]
    }
   ],
   "source": [
    "print('we have {} rows of data'.format(data.shape[0]))\n",
    "print('we have {} rows of NC1'.format(nc1.shape[0]))\n",
    "print('percentage: {:.2f}%'.format(nc1.shape[0]/data.shape[0]*100))"
   ]
  },
  {
   "cell_type": "code",
   "execution_count": 5,
   "metadata": {},
   "outputs": [
    {
     "name": "stdout",
     "output_type": "stream",
     "text": [
      "List of all labels count:\n"
     ]
    },
    {
     "data": {
      "text/plain": [
       "Label\n",
       "0                                41\n",
       "1.4                             133\n",
       "FE                              397\n",
       "IOfailing                         1\n",
       "IOpassMED                       114\n",
       "IOpassMEY                        79\n",
       "MED                            1220\n",
       "MEY                            1251\n",
       "NC1(failing)                    461\n",
       "NC2(z>1 nsf)                     24\n",
       "NC3(z>1, not paid off, nsf)      24\n",
       "NMEm                            638\n",
       "NMEs                              7\n",
       "Name: CUSIP, dtype: int64"
      ]
     },
     "execution_count": 5,
     "metadata": {},
     "output_type": "execute_result"
    }
   ],
   "source": [
    "#groupby label and check # unique value\n",
    "print('List of all labels count:')\n",
    "data.groupby('Label')['CUSIP'].nunique()"
   ]
  },
  {
   "cell_type": "code",
   "execution_count": 6,
   "metadata": {},
   "outputs": [
    {
     "name": "stdout",
     "output_type": "stream",
     "text": [
      "Does row of nc1 equals # of nc1 in the data? True\n"
     ]
    }
   ],
   "source": [
    "valid = data.groupby('Label')['CUSIP'].nunique()['NC1(failing)'] == nc1.shape[0]\n",
    "print('Does row of nc1 equals # of nc1 in the data? {}'.format(valid))"
   ]
  },
  {
   "cell_type": "markdown",
   "metadata": {},
   "source": [
    "## Explore NC1"
   ]
  },
  {
   "cell_type": "code",
   "execution_count": 7,
   "metadata": {},
   "outputs": [
    {
     "name": "stdout",
     "output_type": "stream",
     "text": [
      "There are 150 of prospectus that have NC1\n",
      "On average 3.07 NC1 per prospectus that have NC1\n"
     ]
    }
   ],
   "source": [
    "count = nc1.groupby('Prospectus')['CUSIP'].nunique().count()\n",
    "print('There are ' + str(count) + ' of prospectus that have NC1')\n",
    "print(\"On average {:.2f} NC1 per prospectus that have NC1\".format(nc1.shape[0]/count))"
   ]
  },
  {
   "cell_type": "code",
   "execution_count": 8,
   "metadata": {},
   "outputs": [
    {
     "name": "stdout",
     "output_type": "stream",
     "text": [
      "Top 5 of the MTG_TRANCHE_TYP_LONG among NC1 are:\n"
     ]
    },
    {
     "data": {
      "text/plain": [
       "MTG_TRANCHE_TYP_LONG\n",
       "SUB,CSTR,NAS    281\n",
       "SUB,NAS         126\n",
       "MEZ,FLT,STEP     10\n",
       "SUB,CSTR,AS       7\n",
       "SUB,CSTR          4\n",
       "Name: CUSIP, dtype: int64"
      ]
     },
     "execution_count": 8,
     "metadata": {},
     "output_type": "execute_result"
    }
   ],
   "source": [
    "show_top = 5\n",
    "print('Top {} of the MTG_TRANCHE_TYP_LONG among NC1 are:'.format(show_top))\n",
    "nc1.groupby('MTG_TRANCHE_TYP_LONG')['CUSIP'].nunique().sort_values(ascending=False).head(show_top)"
   ]
  },
  {
   "cell_type": "code",
   "execution_count": 9,
   "metadata": {},
   "outputs": [
    {
     "name": "stdout",
     "output_type": "stream",
     "text": [
      "Top 5 of the MTG_TRANCHE_TYP_LONG among non-NC1s are:\n"
     ]
    },
    {
     "data": {
      "text/plain": [
       "MTG_TRANCHE_TYP_LONG\n",
       "SUB,CSTR,NAS        441\n",
       "SEQ,AS              262\n",
       "SUB,NAS             238\n",
       "MEZ,FLT,STEP,IRC    227\n",
       "CSTR,PT,AS          189\n",
       "Name: CUSIP, dtype: int64"
      ]
     },
     "execution_count": 9,
     "metadata": {},
     "output_type": "execute_result"
    }
   ],
   "source": [
    "print('Top {} of the MTG_TRANCHE_TYP_LONG among non-NC1s are:'.format(show_top))\n",
    "data.loc[data['Label'] != 'NC1(failing)'].groupby('MTG_TRANCHE_TYP_LONG')['CUSIP'].nunique().sort_values(ascending=False).head(show_top)"
   ]
  },
  {
   "cell_type": "markdown",
   "metadata": {},
   "source": [
    "In 2004, MTG_TRANCHE_TYP_LONG among NC1 and non-NC1 data set, SUB (Subordinated), CSTR(Collateral Strip Rate), and NAS(Non-Accelerated Security) seems to be the top components. <br>\n",
    "\n",
    "In 2005, MTG_TRANCHE_TYP_LONG among NC1 and non-NC1 data set, FLT(Floater), STEP(Stepped Rate Bond), and MEZ(Mezzanine) seems to be the top components. <br>\n",
    "\n",
    "For NC1 in 2004, I couldn't really see big difference between both groups.<br>\n",
    "For NC1 in 2005, there is really big difference between both groups.<br>\n",
    "\n",
    "[See here for more info about MTG_TRANCHE_TYP](https://docs.google.com/spreadsheets/d/1MOwPnTr2owqPoJNy73U7UEc3z1RvtzELOCM0ZFxBJU8/edit?usp=sharing)"
   ]
  },
  {
   "cell_type": "code",
   "execution_count": 10,
   "metadata": {},
   "outputs": [
    {
     "name": "stdout",
     "output_type": "stream",
     "text": [
      "Sum of MTG ORIG AMT among NC1 = 2113.59\n"
     ]
    }
   ],
   "source": [
    "total = nc1['MTG ORIG AMT'].sum()\n",
    "print('Sum of MTG ORIG AMT among NC1 = {:.2f}'.format(total))"
   ]
  },
  {
   "cell_type": "code",
   "execution_count": 11,
   "metadata": {},
   "outputs": [
    {
     "name": "stdout",
     "output_type": "stream",
     "text": [
      "Desciption of MTG ORIG AMT among NC1:\n"
     ]
    },
    {
     "data": {
      "text/plain": [
       "count    461.000000\n",
       "mean       4.584784\n",
       "std       29.141494\n",
       "min        0.048000\n",
       "25%        0.644000\n",
       "50%        1.200900\n",
       "75%        2.273000\n",
       "max      560.470000\n",
       "Name: MTG ORIG AMT, dtype: float64"
      ]
     },
     "execution_count": 11,
     "metadata": {},
     "output_type": "execute_result"
    }
   ],
   "source": [
    "print('Desciption of MTG ORIG AMT among NC1:')\n",
    "nc1['MTG ORIG AMT'].describe()"
   ]
  },
  {
   "cell_type": "markdown",
   "metadata": {},
   "source": [
    "## To do\n",
    "- Look into Bloomberg (Paydown Infomation?)\n",
    "- Look why payment just suddenly stops instead of gradually decreased and stoped\n",
    "- Why is CUSIP duplicated?\n"
   ]
  },
  {
   "cell_type": "markdown",
   "metadata": {},
   "source": [
    "## Why is CUSIP duplicated?\n",
    "The folling shows that there are duplicate CUSIP in the data set"
   ]
  },
  {
   "cell_type": "code",
   "execution_count": 12,
   "metadata": {},
   "outputs": [
    {
     "data": {
      "text/plain": [
       "Label\n",
       "0                                41\n",
       "1.4                             136\n",
       "FE                              400\n",
       "IOfailing                         1\n",
       "IOpassMED                       114\n",
       "IOpassMEY                        81\n",
       "MED                            1232\n",
       "MEY                            1285\n",
       "NC1(failing)                    461\n",
       "NC2(z>1 nsf)                     24\n",
       "NC3(z>1, not paid off, nsf)      24\n",
       "NMEm                            644\n",
       "NMEs                              7\n",
       "Name: CUSIP, dtype: int64"
      ]
     },
     "execution_count": 12,
     "metadata": {},
     "output_type": "execute_result"
    }
   ],
   "source": [
    "data.groupby('Label')['CUSIP'].count()"
   ]
  },
  {
   "cell_type": "code",
   "execution_count": 13,
   "metadata": {},
   "outputs": [
    {
     "data": {
      "text/plain": [
       "Label\n",
       "0                                41\n",
       "1.4                             133\n",
       "FE                              397\n",
       "IOfailing                         1\n",
       "IOpassMED                       114\n",
       "IOpassMEY                        79\n",
       "MED                            1220\n",
       "MEY                            1251\n",
       "NC1(failing)                    461\n",
       "NC2(z>1 nsf)                     24\n",
       "NC3(z>1, not paid off, nsf)      24\n",
       "NMEm                            638\n",
       "NMEs                              7\n",
       "Name: CUSIP, dtype: int64"
      ]
     },
     "execution_count": 13,
     "metadata": {},
     "output_type": "execute_result"
    }
   ],
   "source": [
    "data.groupby('Label')['CUSIP'].nunique()"
   ]
  },
  {
   "cell_type": "markdown",
   "metadata": {},
   "source": [
    "All the Falses show two are in different sizes"
   ]
  },
  {
   "cell_type": "code",
   "execution_count": 14,
   "metadata": {},
   "outputs": [
    {
     "data": {
      "text/plain": [
       "Label\n",
       "0                               True\n",
       "1.4                            False\n",
       "FE                             False\n",
       "IOfailing                       True\n",
       "IOpassMED                       True\n",
       "IOpassMEY                      False\n",
       "MED                            False\n",
       "MEY                            False\n",
       "NC1(failing)                    True\n",
       "NC2(z>1 nsf)                    True\n",
       "NC3(z>1, not paid off, nsf)     True\n",
       "NMEm                           False\n",
       "NMEs                            True\n",
       "Name: CUSIP, dtype: bool"
      ]
     },
     "execution_count": 14,
     "metadata": {},
     "output_type": "execute_result"
    }
   ],
   "source": [
    "data.groupby('Label')['CUSIP'].count() == data.groupby('Label')['CUSIP'].nunique()"
   ]
  },
  {
   "cell_type": "markdown",
   "metadata": {},
   "source": [
    "These are what CUSIPs are duplicated."
   ]
  },
  {
   "cell_type": "code",
   "execution_count": 15,
   "metadata": {},
   "outputs": [
    {
     "data": {
      "text/plain": [
       "Label      CUSIP    \n",
       "MEY        126671Y75    3\n",
       "           126671Z74    3\n",
       "MED        126671Y67    3\n",
       "           1266712F2    3\n",
       "           1266712B1    3\n",
       "           1266712A3    3\n",
       "MEY        126671Y83    3\n",
       "MED        126671Z90    3\n",
       "           126671Z82    3\n",
       "MEY        126671Z66    3\n",
       "           126671Z58    3\n",
       "           126671Y91    3\n",
       "           126671Z25    3\n",
       "           126671Z33    3\n",
       "           126671Z41    3\n",
       "           576433QQ2    2\n",
       "1.4        073879LU0    2\n",
       "           073879LV8    2\n",
       "MEY        576433QV1    2\n",
       "FE         073879LT3    2\n",
       "           57643MEZ3    2\n",
       "IOpassMEY  57643MEJ9    2\n",
       "1.4        57643MFA7    2\n",
       "MEY        576433QS8    2\n",
       "           576433QT6    2\n",
       "           576433QU3    2\n",
       "           576433QW9    2\n",
       "           576433QR0    2\n",
       "FE         576433RD0    2\n",
       "MEY        576433RB4    2\n",
       "                       ..\n",
       "           61748HHG9    1\n",
       "           61748HHF1    1\n",
       "           61748HHE4    1\n",
       "           61748HHD6    1\n",
       "           61748HHC8    1\n",
       "           61748HHB0    1\n",
       "           61748HGR6    1\n",
       "           61748HGG0    1\n",
       "           61748HGE5    1\n",
       "           61748HGD7    1\n",
       "           61748HGC9    1\n",
       "           61748HFU0    1\n",
       "           61748HFT3    1\n",
       "           61748HFG1    1\n",
       "           61748HCK5    1\n",
       "           61748HFF3    1\n",
       "           61748HFE6    1\n",
       "           61748HFD8    1\n",
       "           61748HFC0    1\n",
       "           61748HEK3    1\n",
       "           61748HEJ6    1\n",
       "           61748HEG2    1\n",
       "           61748HEF4    1\n",
       "           61748HEE7    1\n",
       "           61748HED9    1\n",
       "           61748HEC1    1\n",
       "           61748HCN9    1\n",
       "           61748HCM1    1\n",
       "           61748HCL3    1\n",
       "0          05948KRF8    1\n",
       "Length: 4390, dtype: int64"
      ]
     },
     "execution_count": 15,
     "metadata": {},
     "output_type": "execute_result"
    }
   ],
   "source": [
    "data.groupby(by=['Label','CUSIP']).size().sort_values(ascending=False)"
   ]
  },
  {
   "cell_type": "code",
   "execution_count": null,
   "metadata": {},
   "outputs": [],
   "source": []
  }
 ],
 "metadata": {
  "kernelspec": {
   "display_name": "Python 3",
   "language": "python",
   "name": "python3"
  },
  "language_info": {
   "codemirror_mode": {
    "name": "ipython",
    "version": 3
   },
   "file_extension": ".py",
   "mimetype": "text/x-python",
   "name": "python",
   "nbconvert_exporter": "python",
   "pygments_lexer": "ipython3",
   "version": "3.6.5"
  }
 },
 "nbformat": 4,
 "nbformat_minor": 2
}
