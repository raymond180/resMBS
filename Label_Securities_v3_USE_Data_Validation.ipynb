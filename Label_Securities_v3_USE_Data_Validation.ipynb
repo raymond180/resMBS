{
 "cells": [
  {
   "cell_type": "code",
   "execution_count": 1,
   "metadata": {},
   "outputs": [],
   "source": [
    "import pandas as pd\n",
    "import numpy as np\n",
    "\n",
    "%matplotlib inline\n",
    "import matplotlib\n",
    "import matplotlib.pyplot as plt\n",
    "from IPython.display import set_matplotlib_formats\n",
    "set_matplotlib_formats('retina')"
   ]
  },
  {
   "cell_type": "markdown",
   "metadata": {},
   "source": [
    "This notebook shows some basics stats about securities labeled as NC1"
   ]
  },
  {
   "cell_type": "markdown",
   "metadata": {},
   "source": [
    "## Load Data"
   ]
  },
  {
   "cell_type": "code",
   "execution_count": 2,
   "metadata": {},
   "outputs": [],
   "source": [
    "data = pd.DataFrame([])\n",
    "for n in range(2,9):\n",
    "    file_name = 'trimmed_'+ str(2000+n) +'_v3_USE.csv'\n",
    "    df = pd.read_csv(file_name)\n",
    "    rows = df.shape[0]\n",
    "    year = {'Year' : ([str(2000+n)]*rows)}\n",
    "    year_df = pd.DataFrame(data=year)\n",
    "    df = pd.concat([df, year_df], axis=1)\n",
    "    data = data.append(df,ignore_index=True)"
   ]
  },
  {
   "cell_type": "markdown",
   "metadata": {},
   "source": [
    "## Data Validation"
   ]
  },
  {
   "cell_type": "code",
   "execution_count": 3,
   "metadata": {},
   "outputs": [
    {
     "name": "stdout",
     "output_type": "stream",
     "text": [
      "we have 31811 rows of data\n"
     ]
    }
   ],
   "source": [
    "print('we have {} rows of data'.format(data.shape[0]))"
   ]
  },
  {
   "cell_type": "code",
   "execution_count": 4,
   "metadata": {},
   "outputs": [
    {
     "name": "stdout",
     "output_type": "stream",
     "text": [
      "rows grouped by year:\n"
     ]
    },
    {
     "data": {
      "text/plain": [
       "Year\n",
       "2002    2770\n",
       "2003    4233\n",
       "2004    5330\n",
       "2005    8989\n",
       "2006    5071\n",
       "2007    4551\n",
       "2008     867\n",
       "dtype: int64"
      ]
     },
     "execution_count": 4,
     "metadata": {},
     "output_type": "execute_result"
    }
   ],
   "source": [
    "print('rows grouped by year:')\n",
    "data.groupby(['Year']).size()"
   ]
  },
  {
   "cell_type": "markdown",
   "metadata": {},
   "source": [
    "## Duplicatations\n",
    "\n",
    "There are several duplications in the data set.\n",
    "1. There are rows that are exactly the same\n",
    "2. CUSIP os duplicated"
   ]
  },
  {
   "cell_type": "markdown",
   "metadata": {},
   "source": [
    "### Duplicated rows"
   ]
  },
  {
   "cell_type": "markdown",
   "metadata": {},
   "source": [
    "There are two rows that are the same. For example, CUSIP:576434DB7"
   ]
  },
  {
   "cell_type": "code",
   "execution_count": 5,
   "metadata": {},
   "outputs": [
    {
     "data": {
      "text/html": [
       "<div>\n",
       "<style scoped>\n",
       "    .dataframe tbody tr th:only-of-type {\n",
       "        vertical-align: middle;\n",
       "    }\n",
       "\n",
       "    .dataframe tbody tr th {\n",
       "        vertical-align: top;\n",
       "    }\n",
       "\n",
       "    .dataframe thead th {\n",
       "        text-align: right;\n",
       "    }\n",
       "</style>\n",
       "<table border=\"1\" class=\"dataframe\">\n",
       "  <thead>\n",
       "    <tr style=\"text-align: right;\">\n",
       "      <th></th>\n",
       "      <th>PID</th>\n",
       "      <th>Prospectus</th>\n",
       "      <th>Class</th>\n",
       "      <th>norm_class</th>\n",
       "      <th>Name</th>\n",
       "      <th>Current_Balance</th>\n",
       "      <th>Zero-Balance Payment Period Number</th>\n",
       "      <th>Sum Principle Paid</th>\n",
       "      <th>MTG ORIG AMT</th>\n",
       "      <th>Maturity</th>\n",
       "      <th>...</th>\n",
       "      <th>Moody Rating</th>\n",
       "      <th>Initial Moody Rating</th>\n",
       "      <th>Bloomberg Composite</th>\n",
       "      <th>HCLB</th>\n",
       "      <th>MTG INT SHRTFLL</th>\n",
       "      <th>HIST INTRST SHRTFLL</th>\n",
       "      <th>Label</th>\n",
       "      <th>norm_label</th>\n",
       "      <th>USE</th>\n",
       "      <th>Year</th>\n",
       "    </tr>\n",
       "  </thead>\n",
       "  <tbody>\n",
       "    <tr>\n",
       "      <th>3352</th>\n",
       "      <td>FC_1440</td>\n",
       "      <td>MASTR_1225297_0000950136-03-000749.txt</td>\n",
       "      <td>6A2</td>\n",
       "      <td>A</td>\n",
       "      <td>MALT 2003-2 6A2</td>\n",
       "      <td>0.0</td>\n",
       "      <td>1</td>\n",
       "      <td>7.778</td>\n",
       "      <td>7.778</td>\n",
       "      <td>3/25/2033</td>\n",
       "      <td>...</td>\n",
       "      <td>WR</td>\n",
       "      <td>Aaa</td>\n",
       "      <td>NR</td>\n",
       "      <td>0.0</td>\n",
       "      <td>NaN</td>\n",
       "      <td>0\\0\\0</td>\n",
       "      <td>MED</td>\n",
       "      <td>ME</td>\n",
       "      <td>0</td>\n",
       "      <td>2003</td>\n",
       "    </tr>\n",
       "    <tr>\n",
       "      <th>3381</th>\n",
       "      <td>FC_1440</td>\n",
       "      <td>MASTR_1225297_0000950136-03-000749.txt</td>\n",
       "      <td>6A2</td>\n",
       "      <td>A</td>\n",
       "      <td>MALT 2003-2 6A2</td>\n",
       "      <td>0.0</td>\n",
       "      <td>1</td>\n",
       "      <td>7.778</td>\n",
       "      <td>7.778</td>\n",
       "      <td>3/25/2033</td>\n",
       "      <td>...</td>\n",
       "      <td>WR</td>\n",
       "      <td>Aaa</td>\n",
       "      <td>NR</td>\n",
       "      <td>0.0</td>\n",
       "      <td>NaN</td>\n",
       "      <td>0\\0\\0</td>\n",
       "      <td>MED</td>\n",
       "      <td>ME</td>\n",
       "      <td>0</td>\n",
       "      <td>2003</td>\n",
       "    </tr>\n",
       "  </tbody>\n",
       "</table>\n",
       "<p>2 rows × 22 columns</p>\n",
       "</div>"
      ],
      "text/plain": [
       "          PID                              Prospectus Class norm_class  \\\n",
       "3352  FC_1440  MASTR_1225297_0000950136-03-000749.txt   6A2          A   \n",
       "3381  FC_1440  MASTR_1225297_0000950136-03-000749.txt   6A2          A   \n",
       "\n",
       "                 Name  Current_Balance Zero-Balance Payment Period Number  \\\n",
       "3352  MALT 2003-2 6A2              0.0                                  1   \n",
       "3381  MALT 2003-2 6A2              0.0                                  1   \n",
       "\n",
       "      Sum Principle Paid  MTG ORIG AMT   Maturity  ...  Moody Rating  \\\n",
       "3352               7.778         7.778  3/25/2033  ...            WR   \n",
       "3381               7.778         7.778  3/25/2033  ...            WR   \n",
       "\n",
       "     Initial Moody Rating Bloomberg Composite HCLB MTG INT SHRTFLL  \\\n",
       "3352                  Aaa                  NR  0.0             NaN   \n",
       "3381                  Aaa                  NR  0.0             NaN   \n",
       "\n",
       "      HIST INTRST SHRTFLL  Label norm_label USE  Year  \n",
       "3352                0\\0\\0    MED         ME   0  2003  \n",
       "3381                0\\0\\0    MED         ME   0  2003  \n",
       "\n",
       "[2 rows x 22 columns]"
      ]
     },
     "execution_count": 5,
     "metadata": {},
     "output_type": "execute_result"
    }
   ],
   "source": [
    "data.loc[data['CUSIP'] == '576434DB7']"
   ]
  },
  {
   "cell_type": "markdown",
   "metadata": {},
   "source": [
    "pd.duplicated() helps us find duplicated rows and True means it is duplicated"
   ]
  },
  {
   "cell_type": "code",
   "execution_count": 6,
   "metadata": {},
   "outputs": [
    {
     "name": "stdout",
     "output_type": "stream",
     "text": [
      "keep=false shows all duplicated instace so there are 326 rows that are duplicated.\n"
     ]
    }
   ],
   "source": [
    "num_duplicated = data.loc[data.duplicated(keep=False)].shape[0]\n",
    "print('keep=false shows all duplicated instace so there are {} rows that are duplicated.'.format(num_duplicated))"
   ]
  },
  {
   "cell_type": "code",
   "execution_count": 7,
   "metadata": {},
   "outputs": [
    {
     "name": "stdout",
     "output_type": "stream",
     "text": [
      "No keep parameter shows duplicated instace that we should delete so there are 163 rowsthat are duplications that should be deleted.\n",
      "That will give us 163\n"
     ]
    }
   ],
   "source": [
    "num_to_delete = data.loc[data.duplicated()].shape[0]\n",
    "print('No keep parameter shows duplicated instace that we should delete so there are {} rows'\n",
    "      'that are duplications that should be deleted.'.format(num_to_delete))\n",
    "print('That will give us {}'.format(num_duplicated-num_to_delete))"
   ]
  },
  {
   "cell_type": "markdown",
   "metadata": {},
   "source": [
    "pd.drop_duplicates() can drop duplicated rows and keep the only one copy of them"
   ]
  },
  {
   "cell_type": "code",
   "execution_count": 8,
   "metadata": {},
   "outputs": [],
   "source": [
    "data_dropDuplicated = data.drop_duplicates()"
   ]
  },
  {
   "cell_type": "code",
   "execution_count": 9,
   "metadata": {},
   "outputs": [],
   "source": [
    "#data.to_pickle('parent_data')"
   ]
  },
  {
   "cell_type": "code",
   "execution_count": null,
   "metadata": {},
   "outputs": [],
   "source": []
  }
 ],
 "metadata": {
  "kernelspec": {
   "display_name": "Python 3",
   "language": "python",
   "name": "python3"
  },
  "language_info": {
   "codemirror_mode": {
    "name": "ipython",
    "version": 3
   },
   "file_extension": ".py",
   "mimetype": "text/x-python",
   "name": "python",
   "nbconvert_exporter": "python",
   "pygments_lexer": "ipython3",
   "version": "3.6.7"
  }
 },
 "nbformat": 4,
 "nbformat_minor": 2
}
