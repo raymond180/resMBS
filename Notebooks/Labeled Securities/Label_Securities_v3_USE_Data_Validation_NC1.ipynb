{
 "cells": [
  {
   "cell_type": "code",
   "execution_count": 1,
   "metadata": {},
   "outputs": [],
   "source": [
    "import pandas as pd\n",
    "import numpy as np\n",
    "\n",
    "%matplotlib inline\n",
    "import matplotlib\n",
    "import matplotlib.pyplot as plt\n",
    "from IPython.display import set_matplotlib_formats\n",
    "set_matplotlib_formats('retina')"
   ]
  },
  {
   "cell_type": "markdown",
   "metadata": {},
   "source": [
    "This notebook shows some basics stats about securities labeled as NC1"
   ]
  },
  {
   "cell_type": "markdown",
   "metadata": {},
   "source": [
    "## Load Data"
   ]
  },
  {
   "cell_type": "code",
   "execution_count": 2,
   "metadata": {},
   "outputs": [],
   "source": [
    "data = pd.DataFrame([])\n",
    "for n in range(2,9):\n",
    "    file_name = 'trimmed_'+ str(2000+n) +'_v3_USE.csv'\n",
    "    df = pd.read_csv(file_name)\n",
    "    rows = df.shape[0]\n",
    "    year = {'Year' : ([str(2000+n)]*rows)}\n",
    "    year_df = pd.DataFrame(data=year)\n",
    "    df = pd.concat([df, year_df], axis=1)\n",
    "    data = data.append(df,ignore_index=True)"
   ]
  },
  {
   "cell_type": "code",
   "execution_count": 3,
   "metadata": {},
   "outputs": [],
   "source": [
    "#Get all rows with NC1\n",
    "nc1 = data.loc[data['Label'] == 'NC1']"
   ]
  },
  {
   "cell_type": "markdown",
   "metadata": {},
   "source": [
    "## Data Validation"
   ]
  },
  {
   "cell_type": "code",
   "execution_count": 4,
   "metadata": {},
   "outputs": [
    {
     "name": "stdout",
     "output_type": "stream",
     "text": [
      "we have 31811 rows of data\n",
      "we have 6427 rows of NC1\n",
      "percentage: 20.20%\n"
     ]
    }
   ],
   "source": [
    "print('we have {} rows of data'.format(data.shape[0]))\n",
    "print('we have {} rows of NC1'.format(nc1.shape[0]))\n",
    "print('percentage: {:.2f}%'.format(nc1.shape[0]/data.shape[0]*100))"
   ]
  },
  {
   "cell_type": "code",
   "execution_count": 5,
   "metadata": {},
   "outputs": [
    {
     "name": "stdout",
     "output_type": "stream",
     "text": [
      "Does nc1.groupby(by=['Year','Label'])['CUSIP','PID'] equal number of rows in nc1? True\n"
     ]
    }
   ],
   "source": [
    "valid = nc1.groupby(by=['Year','Label'])['CUSIP','PID'].size().sum() == nc1.shape[0]\n",
    "print(\"Does nc1.groupby(by=['Year','Label'])['CUSIP','PID'] equal number of rows in nc1? {}\".format(valid))"
   ]
  },
  {
   "cell_type": "code",
   "execution_count": 6,
   "metadata": {},
   "outputs": [
    {
     "name": "stdout",
     "output_type": "stream",
     "text": [
      "Does data.groupby(by=['Year','Label'])['CUSIP','PID'] equal number of rows in data? True\n",
      "This ensures ['CUSIP','PID'] shows uniqueness.\n"
     ]
    }
   ],
   "source": [
    "valid = data.groupby(by=['Year','Label'])['CUSIP','PID'].size().sum() == data.shape[0]\n",
    "print(\"Does data.groupby(by=['Year','Label'])['CUSIP','PID'] equal number of rows in data? {}\".format(valid))\n",
    "if (valid): print(\"This ensures ['CUSIP','PID'] shows uniqueness.\")"
   ]
  },
  {
   "cell_type": "code",
   "execution_count": 7,
   "metadata": {},
   "outputs": [
    {
     "name": "stdout",
     "output_type": "stream",
     "text": [
      "Number of NC1 in given year. Note:2008 does not have NC1\n"
     ]
    },
    {
     "data": {
      "text/plain": [
       "Year  Label\n",
       "2002  NC1         5\n",
       "2003  NC1         2\n",
       "2004  NC1       464\n",
       "2005  NC1      1627\n",
       "2006  NC1      2297\n",
       "2007  NC1      2032\n",
       "dtype: int64"
      ]
     },
     "execution_count": 7,
     "metadata": {},
     "output_type": "execute_result"
    }
   ],
   "source": [
    "print('Number of NC1 in given year. Note:2008 does not have NC1')\n",
    "nc1.groupby(by=['Year','Label'])['CUSIP','PID'].size()"
   ]
  },
  {
   "cell_type": "code",
   "execution_count": 8,
   "metadata": {
    "scrolled": false
   },
   "outputs": [
    {
     "name": "stdout",
     "output_type": "stream",
     "text": [
      "Ratio of NC1/All in given year:\n"
     ]
    },
    {
     "data": {
      "text/plain": [
       "Year  Label\n",
       "2002  NC1      0.001805\n",
       "2003  NC1      0.000472\n",
       "2004  NC1      0.087054\n",
       "2005  NC1      0.180999\n",
       "2006  NC1      0.452968\n",
       "2007  NC1      0.446495\n",
       "dtype: float64"
      ]
     },
     "execution_count": 8,
     "metadata": {},
     "output_type": "execute_result"
    }
   ],
   "source": [
    "print('Ratio of NC1/All in given year:')\n",
    "nc1.groupby(by=['Year','Label'])['CUSIP','PID'].size()/data.groupby(by=['Year'])['CUSIP','PID'].size()"
   ]
  },
  {
   "cell_type": "code",
   "execution_count": 9,
   "metadata": {},
   "outputs": [
    {
     "name": "stdout",
     "output_type": "stream",
     "text": [
      "Is data.loc[data['Label'] != 'NC1'] valid for geting non-NC1? True\n"
     ]
    }
   ],
   "source": [
    "valid = (data.loc[data['Label'] != 'NC1'].shape[0]) == data.shape[0]-nc1.shape[0]\n",
    "print(\"Is data.loc[data['Label'] != 'NC1'] valid for geting non-NC1? {}\".format(valid))"
   ]
  },
  {
   "cell_type": "markdown",
   "metadata": {},
   "source": [
    "## Explore NC1"
   ]
  },
  {
   "cell_type": "code",
   "execution_count": 10,
   "metadata": {},
   "outputs": [
    {
     "name": "stdout",
     "output_type": "stream",
     "text": [
      "There are 1001 of prospectus that have NC1 with unique CUSIP\n",
      "On average 6.42 NC1 per prospectus that has NC1\n"
     ]
    }
   ],
   "source": [
    "count = nc1.groupby('PID')['CUSIP'].nunique().count()\n",
    "print('There are ' + str(count) + ' of prospectus that have NC1 with unique CUSIP')\n",
    "print(\"On average {:.2f} NC1 per prospectus that has NC1\".format(nc1.shape[0]/count))"
   ]
  },
  {
   "cell_type": "code",
   "execution_count": 11,
   "metadata": {},
   "outputs": [],
   "source": [
    "#These two are different because CUSIP is not unique\n",
    "#nc1.groupby('PID')['CUSIP'].size().sum()\n",
    "#nc1.groupby('PID')['CUSIP'].nunique()"
   ]
  },
  {
   "cell_type": "code",
   "execution_count": 12,
   "metadata": {},
   "outputs": [
    {
     "name": "stdout",
     "output_type": "stream",
     "text": [
      "Top 5 of the MTG_TRANCHE_TYP_LONG among NC1 are:\n"
     ]
    },
    {
     "data": {
      "text/plain": [
       "MTG_TRANCHE_TYP_LONG\n",
       "SUB,CSTR,NAS            1609\n",
       "MEZ,FLT,STEP,IRC         989\n",
       "SUB,NAS                  663\n",
       "MEZ,FLT,STEP             389\n",
       "MEZ,FLT,STEP,IRC,NAS     274\n",
       "dtype: int64"
      ]
     },
     "execution_count": 12,
     "metadata": {},
     "output_type": "execute_result"
    }
   ],
   "source": [
    "show_top = 5\n",
    "print('Top {} of the MTG_TRANCHE_TYP_LONG among NC1 are:'.format(show_top))\n",
    "nc1.groupby(['MTG_TRANCHE_TYP_LONG'])['CUSIP','PID'].size().sort_values(ascending=False).head(show_top)"
   ]
  },
  {
   "cell_type": "code",
   "execution_count": 13,
   "metadata": {},
   "outputs": [
    {
     "name": "stdout",
     "output_type": "stream",
     "text": [
      "Top 5 of the MTG_TRANCHE_TYP_LONG among non-NC1s are:\n"
     ]
    },
    {
     "data": {
      "text/plain": [
       "MTG_TRANCHE_TYP_LONG\n",
       "SUB,CSTR,NAS        1997\n",
       "SEQ,AS              1906\n",
       "SUB,NAS             1734\n",
       "MEZ,FLT,STEP,IRC    1205\n",
       "FLT,STEP,IRC        1123\n",
       "dtype: int64"
      ]
     },
     "execution_count": 13,
     "metadata": {},
     "output_type": "execute_result"
    }
   ],
   "source": [
    "print('Top {} of the MTG_TRANCHE_TYP_LONG among non-NC1s are:'.format(show_top))\n",
    "data.loc[data['Label'] != 'NC1'].groupby(['MTG_TRANCHE_TYP_LONG'])['CUSIP','PID'].size().sort_values(ascending=False).head(show_top)"
   ]
  },
  {
   "cell_type": "markdown",
   "metadata": {},
   "source": [
    "[See here for more info about MTG_TRANCHE_TYP](https://docs.google.com/spreadsheets/d/1MOwPnTr2owqPoJNy73U7UEc3z1RvtzELOCM0ZFxBJU8/edit?usp=sharing)"
   ]
  },
  {
   "cell_type": "code",
   "execution_count": 14,
   "metadata": {},
   "outputs": [
    {
     "name": "stdout",
     "output_type": "stream",
     "text": [
      "Sum of MTG ORIG AMT among NC1 = 55423.82\n",
      "Sum of MTG ORIG AMT among non-NC1 = 1754465.00\n",
      "Sum of MTG ORIG AMT among all = 1809888.82\n",
      "MTG ORIG AMT among NC1 / MTG ORIG AMT of all = 3.06%\n"
     ]
    }
   ],
   "source": [
    "nc1_total = nc1['MTG ORIG AMT'].sum()\n",
    "nonNC1_total = data.loc[data['Label'] != 'NC1']['MTG ORIG AMT'].sum()\n",
    "print('Sum of MTG ORIG AMT among NC1 = {:.2f}'.format(nc1_total))\n",
    "print('Sum of MTG ORIG AMT among non-NC1 = {:.2f}'.format(nonNC1_total))\n",
    "print('Sum of MTG ORIG AMT among all = {:.2f}'.format(nc1_total+nonNC1_total))\n",
    "print('MTG ORIG AMT among NC1 / MTG ORIG AMT of all = {:.2f}%'.format(nc1_total/(nc1_total+nonNC1_total)*100))"
   ]
  },
  {
   "cell_type": "code",
   "execution_count": 15,
   "metadata": {},
   "outputs": [
    {
     "name": "stdout",
     "output_type": "stream",
     "text": [
      "Desciption of MTG ORIG AMT among NC1:\n"
     ]
    },
    {
     "data": {
      "text/plain": [
       "count    6427.000000\n",
       "mean        8.623591\n",
       "std        13.733825\n",
       "min         0.000100\n",
       "25%         2.070100\n",
       "50%         5.000000\n",
       "75%        11.027500\n",
       "max       560.470000\n",
       "Name: MTG ORIG AMT, dtype: float64"
      ]
     },
     "execution_count": 15,
     "metadata": {},
     "output_type": "execute_result"
    }
   ],
   "source": [
    "print('Desciption of MTG ORIG AMT among NC1:')\n",
    "nc1['MTG ORIG AMT'].describe()"
   ]
  },
  {
   "cell_type": "markdown",
   "metadata": {},
   "source": [
    "## To do\n",
    "- Look into Bloomberg (Paydown Infomation) <br>\n",
    "API found, can actually use excel on Bloomberg terminal to get the HIST_UNSUPPORTED_RISK_SHORTFALL data quickly\n",
    "- Look why payment just suddenly stops instead of gradually decreased and stoped\n"
   ]
  },
  {
   "cell_type": "markdown",
   "metadata": {},
   "source": [
    "## Finding duplicatations\n",
    "The CUSIP in dataset is duplicated. The uniqueness is determined by using both CUSIP and PID. The way of finding duplicated CUSIP is the following:"
   ]
  },
  {
   "cell_type": "markdown",
   "metadata": {},
   "source": [
    "This line of code shows that CUSIP is not unique in the dataset. Using count is to count the total number of rows, but using nunique is to count unique. I think both method will be handy in different situations. The Falses in result shows that two ways of counting are different."
   ]
  },
  {
   "cell_type": "code",
   "execution_count": 16,
   "metadata": {},
   "outputs": [
    {
     "data": {
      "text/plain": [
       "Label\n",
       "0            False\n",
       "1.4          False\n",
       "FE           False\n",
       "IOfailing     True\n",
       "IOpassMED    False\n",
       "IOpassMEY    False\n",
       "MED          False\n",
       "MEY          False\n",
       "NC1          False\n",
       "NC2          False\n",
       "NC3          False\n",
       "NMEm         False\n",
       "NMEs          True\n",
       "Name: CUSIP, dtype: bool"
      ]
     },
     "execution_count": 16,
     "metadata": {},
     "output_type": "execute_result"
    }
   ],
   "source": [
    "data.groupby('Label')['CUSIP'].size() == data.groupby('Label')['CUSIP'].nunique()"
   ]
  },
  {
   "cell_type": "code",
   "execution_count": 17,
   "metadata": {},
   "outputs": [
    {
     "data": {
      "text/plain": [
       "CUSIP    31628\n",
       "PID      31628\n",
       "dtype: int64"
      ]
     },
     "execution_count": 17,
     "metadata": {},
     "output_type": "execute_result"
    }
   ],
   "source": [
    "CUSIP_PID_count = data.groupby(by=['CUSIP','PID'])['CUSIP','PID'].nunique().sum()\n",
    "CUSIP_PID_count"
   ]
  },
  {
   "cell_type": "code",
   "execution_count": 18,
   "metadata": {},
   "outputs": [
    {
     "name": "stdout",
     "output_type": "stream",
     "text": [
      "CUSIP and PID agree but does not equal to number of rows. We have 31811 rows of data\n",
      "The difference is 183\n"
     ]
    }
   ],
   "source": [
    "print('CUSIP and PID agree but does not equal to number of rows. We have {} rows of data'.format(data.shape[0]))\n",
    "print('The difference is {}'.format(data.shape[0]-CUSIP_PID_count[0]))"
   ]
  },
  {
   "cell_type": "markdown",
   "metadata": {},
   "source": [
    "Duplicated rows are found below"
   ]
  },
  {
   "cell_type": "code",
   "execution_count": 19,
   "metadata": {},
   "outputs": [
    {
     "data": {
      "text/plain": [
       "CUSIP      PID    \n",
       "576434EZ3  FC_1525    2\n",
       "576434HX5  FC_2221    2\n",
       "576434HP2  FC_2221    2\n",
       "576434HQ0  FC_2221    2\n",
       "576434HR8  FC_2221    2\n",
       "dtype: int64"
      ]
     },
     "execution_count": 19,
     "metadata": {},
     "output_type": "execute_result"
    }
   ],
   "source": [
    "data.groupby(by=['CUSIP','PID']).size().sort_values(ascending=False).head()"
   ]
  },
  {
   "cell_type": "markdown",
   "metadata": {},
   "source": [
    "Theese two rows are he same"
   ]
  },
  {
   "cell_type": "code",
   "execution_count": 20,
   "metadata": {},
   "outputs": [
    {
     "data": {
      "text/html": [
       "<div>\n",
       "<style scoped>\n",
       "    .dataframe tbody tr th:only-of-type {\n",
       "        vertical-align: middle;\n",
       "    }\n",
       "\n",
       "    .dataframe tbody tr th {\n",
       "        vertical-align: top;\n",
       "    }\n",
       "\n",
       "    .dataframe thead th {\n",
       "        text-align: right;\n",
       "    }\n",
       "</style>\n",
       "<table border=\"1\" class=\"dataframe\">\n",
       "  <thead>\n",
       "    <tr style=\"text-align: right;\">\n",
       "      <th></th>\n",
       "      <th>PID</th>\n",
       "      <th>Prospectus</th>\n",
       "      <th>Class</th>\n",
       "      <th>norm_class</th>\n",
       "      <th>Name</th>\n",
       "      <th>Current_Balance</th>\n",
       "      <th>Zero-Balance Payment Period Number</th>\n",
       "      <th>Sum Principle Paid</th>\n",
       "      <th>MTG ORIG AMT</th>\n",
       "      <th>Maturity</th>\n",
       "      <th>...</th>\n",
       "      <th>Moody Rating</th>\n",
       "      <th>Initial Moody Rating</th>\n",
       "      <th>Bloomberg Composite</th>\n",
       "      <th>HCLB</th>\n",
       "      <th>MTG INT SHRTFLL</th>\n",
       "      <th>HIST INTRST SHRTFLL</th>\n",
       "      <th>Label</th>\n",
       "      <th>norm_label</th>\n",
       "      <th>USE</th>\n",
       "      <th>Year</th>\n",
       "    </tr>\n",
       "  </thead>\n",
       "  <tbody>\n",
       "    <tr>\n",
       "      <th>3352</th>\n",
       "      <td>FC_1440</td>\n",
       "      <td>MASTR_1225297_0000950136-03-000749.txt</td>\n",
       "      <td>6A2</td>\n",
       "      <td>A</td>\n",
       "      <td>MALT 2003-2 6A2</td>\n",
       "      <td>0.0</td>\n",
       "      <td>1</td>\n",
       "      <td>7.778</td>\n",
       "      <td>7.778</td>\n",
       "      <td>3/25/2033</td>\n",
       "      <td>...</td>\n",
       "      <td>WR</td>\n",
       "      <td>Aaa</td>\n",
       "      <td>NR</td>\n",
       "      <td>0.0</td>\n",
       "      <td>NaN</td>\n",
       "      <td>0\\0\\0</td>\n",
       "      <td>MED</td>\n",
       "      <td>ME</td>\n",
       "      <td>0</td>\n",
       "      <td>2003</td>\n",
       "    </tr>\n",
       "    <tr>\n",
       "      <th>3381</th>\n",
       "      <td>FC_1440</td>\n",
       "      <td>MASTR_1225297_0000950136-03-000749.txt</td>\n",
       "      <td>6A2</td>\n",
       "      <td>A</td>\n",
       "      <td>MALT 2003-2 6A2</td>\n",
       "      <td>0.0</td>\n",
       "      <td>1</td>\n",
       "      <td>7.778</td>\n",
       "      <td>7.778</td>\n",
       "      <td>3/25/2033</td>\n",
       "      <td>...</td>\n",
       "      <td>WR</td>\n",
       "      <td>Aaa</td>\n",
       "      <td>NR</td>\n",
       "      <td>0.0</td>\n",
       "      <td>NaN</td>\n",
       "      <td>0\\0\\0</td>\n",
       "      <td>MED</td>\n",
       "      <td>ME</td>\n",
       "      <td>0</td>\n",
       "      <td>2003</td>\n",
       "    </tr>\n",
       "  </tbody>\n",
       "</table>\n",
       "<p>2 rows × 22 columns</p>\n",
       "</div>"
      ],
      "text/plain": [
       "          PID                              Prospectus Class norm_class  \\\n",
       "3352  FC_1440  MASTR_1225297_0000950136-03-000749.txt   6A2          A   \n",
       "3381  FC_1440  MASTR_1225297_0000950136-03-000749.txt   6A2          A   \n",
       "\n",
       "                 Name  Current_Balance Zero-Balance Payment Period Number  \\\n",
       "3352  MALT 2003-2 6A2              0.0                                  1   \n",
       "3381  MALT 2003-2 6A2              0.0                                  1   \n",
       "\n",
       "      Sum Principle Paid  MTG ORIG AMT   Maturity  ...  Moody Rating  \\\n",
       "3352               7.778         7.778  3/25/2033  ...            WR   \n",
       "3381               7.778         7.778  3/25/2033  ...            WR   \n",
       "\n",
       "     Initial Moody Rating Bloomberg Composite HCLB MTG INT SHRTFLL  \\\n",
       "3352                  Aaa                  NR  0.0             NaN   \n",
       "3381                  Aaa                  NR  0.0             NaN   \n",
       "\n",
       "      HIST INTRST SHRTFLL  Label norm_label USE  Year  \n",
       "3352                0\\0\\0    MED         ME   0  2003  \n",
       "3381                0\\0\\0    MED         ME   0  2003  \n",
       "\n",
       "[2 rows x 22 columns]"
      ]
     },
     "execution_count": 20,
     "metadata": {},
     "output_type": "execute_result"
    }
   ],
   "source": [
    "data.loc[data['CUSIP'] == '576434DB7']"
   ]
  },
  {
   "cell_type": "markdown",
   "metadata": {},
   "source": [
    "data.duplicated() helps us find duplicated rows and True means it is duplicated"
   ]
  },
  {
   "cell_type": "code",
   "execution_count": 21,
   "metadata": {},
   "outputs": [
    {
     "data": {
      "text/plain": [
       "3757    True\n",
       "4432    True\n",
       "4491    True\n",
       "4490    True\n",
       "3374    True\n",
       "dtype: bool"
      ]
     },
     "execution_count": 21,
     "metadata": {},
     "output_type": "execute_result"
    }
   ],
   "source": [
    "data.duplicated().sort_values(ascending=False).head()"
   ]
  },
  {
   "cell_type": "code",
   "execution_count": 22,
   "metadata": {},
   "outputs": [
    {
     "name": "stdout",
     "output_type": "stream",
     "text": [
      "keep=false shows all duplicated instace so there are 326 rows that are duplicated.\n"
     ]
    }
   ],
   "source": [
    "num_duplicated = data.loc[data.duplicated(keep=False)].shape[0]\n",
    "print('keep=false shows all duplicated instace so there are {} rows that are duplicated.'.format(num_duplicated))"
   ]
  },
  {
   "cell_type": "code",
   "execution_count": 23,
   "metadata": {},
   "outputs": [
    {
     "name": "stdout",
     "output_type": "stream",
     "text": [
      "No keep parameter shows duplicated instace that we should delete so there are 163 rowsthat are duplications that should be deleted.\n",
      "That will give us 163\n"
     ]
    }
   ],
   "source": [
    "num_to_delete = data.loc[data.duplicated()].shape[0]\n",
    "print('No keep parameter shows duplicated instace that we should delete so there are {} rows'\n",
    "      'that are duplications that should be deleted.'.format(num_to_delete))\n",
    "print('That will give us {}'.format(num_duplicated-num_to_delete))"
   ]
  },
  {
   "cell_type": "markdown",
   "metadata": {},
   "source": [
    "Use new variable no_duplicated_data using drop_duplicates()"
   ]
  },
  {
   "cell_type": "code",
   "execution_count": 24,
   "metadata": {},
   "outputs": [],
   "source": [
    "no_duplicated_data = data.drop_duplicates()"
   ]
  },
  {
   "cell_type": "code",
   "execution_count": 25,
   "metadata": {},
   "outputs": [
    {
     "name": "stdout",
     "output_type": "stream",
     "text": [
      "Total Number Match!!!!\n"
     ]
    }
   ],
   "source": [
    "if (((data.shape[0]-CUSIP_PID_count[0])-(num_duplicated-num_to_delete))==0): print('No!! Data rows and CUSIP_PID still not match')\n",
    "else: print('Total Number Match!!!!')"
   ]
  },
  {
   "cell_type": "code",
   "execution_count": 26,
   "metadata": {
    "scrolled": true
   },
   "outputs": [
    {
     "data": {
      "text/plain": [
       "CUSIP      PID    \n",
       "576434KV5  FC_2478    2\n",
       "576434LA0  FC_2478    2\n",
       "86358RJ40  FC_386     2\n",
       "86358RN52  FC_2609    2\n",
       "576434KU7  FC_2478    2\n",
       "dtype: int64"
      ]
     },
     "execution_count": 26,
     "metadata": {},
     "output_type": "execute_result"
    }
   ],
   "source": [
    "no_duplicated_data.groupby(by=['CUSIP','PID']).size().sort_values(ascending=False).head()"
   ]
  },
  {
   "cell_type": "code",
   "execution_count": 27,
   "metadata": {},
   "outputs": [
    {
     "data": {
      "text/plain": [
       "CUSIP\n",
       "126671Y67    4\n",
       "126671Z41    4\n",
       "1266712B1    4\n",
       "1266712F2    4\n",
       "126671Y75    4\n",
       "Name: PID, dtype: int64"
      ]
     },
     "execution_count": 27,
     "metadata": {},
     "output_type": "execute_result"
    }
   ],
   "source": [
    "no_duplicated_data.groupby(by=['CUSIP'])['PID'].nunique().sort_values(ascending=False).head()"
   ]
  },
  {
   "cell_type": "code",
   "execution_count": 28,
   "metadata": {},
   "outputs": [
    {
     "data": {
      "text/html": [
       "<div>\n",
       "<style scoped>\n",
       "    .dataframe tbody tr th:only-of-type {\n",
       "        vertical-align: middle;\n",
       "    }\n",
       "\n",
       "    .dataframe tbody tr th {\n",
       "        vertical-align: top;\n",
       "    }\n",
       "\n",
       "    .dataframe thead th {\n",
       "        text-align: right;\n",
       "    }\n",
       "</style>\n",
       "<table border=\"1\" class=\"dataframe\">\n",
       "  <thead>\n",
       "    <tr style=\"text-align: right;\">\n",
       "      <th></th>\n",
       "      <th>PID</th>\n",
       "      <th>Prospectus</th>\n",
       "      <th>Class</th>\n",
       "      <th>norm_class</th>\n",
       "      <th>Name</th>\n",
       "      <th>Current_Balance</th>\n",
       "      <th>Zero-Balance Payment Period Number</th>\n",
       "      <th>Sum Principle Paid</th>\n",
       "      <th>MTG ORIG AMT</th>\n",
       "      <th>Maturity</th>\n",
       "      <th>...</th>\n",
       "      <th>Moody Rating</th>\n",
       "      <th>Initial Moody Rating</th>\n",
       "      <th>Bloomberg Composite</th>\n",
       "      <th>HCLB</th>\n",
       "      <th>MTG INT SHRTFLL</th>\n",
       "      <th>HIST INTRST SHRTFLL</th>\n",
       "      <th>Label</th>\n",
       "      <th>norm_label</th>\n",
       "      <th>USE</th>\n",
       "      <th>Year</th>\n",
       "    </tr>\n",
       "  </thead>\n",
       "  <tbody>\n",
       "    <tr>\n",
       "      <th>13288</th>\n",
       "      <td>FC_1378</td>\n",
       "      <td>COUNTRYWIDE_1316390_0000950129-05-000828.txt</td>\n",
       "      <td>2CB1</td>\n",
       "      <td>U</td>\n",
       "      <td>BOAA 2005-2 2CB1</td>\n",
       "      <td>2.8537</td>\n",
       "      <td>paying</td>\n",
       "      <td>22.0169</td>\n",
       "      <td>25.309</td>\n",
       "      <td>3/25/2035</td>\n",
       "      <td>...</td>\n",
       "      <td>Caa2</td>\n",
       "      <td>Aaa</td>\n",
       "      <td>DDD+</td>\n",
       "      <td>NaN</td>\n",
       "      <td>0.0</td>\n",
       "      <td>-77664.73\\26803.1\\0</td>\n",
       "      <td>MEY</td>\n",
       "      <td>ME</td>\n",
       "      <td>0</td>\n",
       "      <td>2005</td>\n",
       "    </tr>\n",
       "    <tr>\n",
       "      <th>19597</th>\n",
       "      <td>FC_448</td>\n",
       "      <td>BANC_OF_AMERICA_1318762_0001193125-05-034840.htm</td>\n",
       "      <td>2CB1</td>\n",
       "      <td>U</td>\n",
       "      <td>BOAA 2005-2 2CB1</td>\n",
       "      <td>2.8634</td>\n",
       "      <td>paying</td>\n",
       "      <td>22.0085</td>\n",
       "      <td>25.309</td>\n",
       "      <td>3/25/2035</td>\n",
       "      <td>...</td>\n",
       "      <td>Caa2</td>\n",
       "      <td>Aaa</td>\n",
       "      <td>DDD+</td>\n",
       "      <td>NaN</td>\n",
       "      <td>0.0</td>\n",
       "      <td>-77664.73\\26803.1\\0</td>\n",
       "      <td>MEY</td>\n",
       "      <td>ME</td>\n",
       "      <td>0</td>\n",
       "      <td>2005</td>\n",
       "    </tr>\n",
       "  </tbody>\n",
       "</table>\n",
       "<p>2 rows × 22 columns</p>\n",
       "</div>"
      ],
      "text/plain": [
       "           PID                                        Prospectus Class  \\\n",
       "13288  FC_1378      COUNTRYWIDE_1316390_0000950129-05-000828.txt  2CB1   \n",
       "19597   FC_448  BANC_OF_AMERICA_1318762_0001193125-05-034840.htm  2CB1   \n",
       "\n",
       "      norm_class              Name  Current_Balance  \\\n",
       "13288          U  BOAA 2005-2 2CB1           2.8537   \n",
       "19597          U  BOAA 2005-2 2CB1           2.8634   \n",
       "\n",
       "      Zero-Balance Payment Period Number  Sum Principle Paid  MTG ORIG AMT  \\\n",
       "13288                             paying             22.0169        25.309   \n",
       "19597                             paying             22.0085        25.309   \n",
       "\n",
       "        Maturity  ...  Moody Rating Initial Moody Rating Bloomberg Composite  \\\n",
       "13288  3/25/2035  ...          Caa2                  Aaa                DDD+   \n",
       "19597  3/25/2035  ...          Caa2                  Aaa                DDD+   \n",
       "\n",
       "      HCLB MTG INT SHRTFLL  HIST INTRST SHRTFLL  Label norm_label USE  Year  \n",
       "13288  NaN             0.0  -77664.73\\26803.1\\0    MEY         ME   0  2005  \n",
       "19597  NaN             0.0  -77664.73\\26803.1\\0    MEY         ME   0  2005  \n",
       "\n",
       "[2 rows x 22 columns]"
      ]
     },
     "execution_count": 28,
     "metadata": {},
     "output_type": "execute_result"
    }
   ],
   "source": [
    "no_duplicated_data.loc[no_duplicated_data['CUSIP'] == '05948KXX2']"
   ]
  },
  {
   "cell_type": "code",
   "execution_count": 29,
   "metadata": {},
   "outputs": [
    {
     "data": {
      "text/html": [
       "<div>\n",
       "<style scoped>\n",
       "    .dataframe tbody tr th:only-of-type {\n",
       "        vertical-align: middle;\n",
       "    }\n",
       "\n",
       "    .dataframe tbody tr th {\n",
       "        vertical-align: top;\n",
       "    }\n",
       "\n",
       "    .dataframe thead th {\n",
       "        text-align: right;\n",
       "    }\n",
       "</style>\n",
       "<table border=\"1\" class=\"dataframe\">\n",
       "  <thead>\n",
       "    <tr style=\"text-align: right;\">\n",
       "      <th></th>\n",
       "      <th>PID</th>\n",
       "      <th>Prospectus</th>\n",
       "      <th>Class</th>\n",
       "      <th>norm_class</th>\n",
       "      <th>Name</th>\n",
       "      <th>Current_Balance</th>\n",
       "      <th>Zero-Balance Payment Period Number</th>\n",
       "      <th>Sum Principle Paid</th>\n",
       "      <th>MTG ORIG AMT</th>\n",
       "      <th>Maturity</th>\n",
       "      <th>...</th>\n",
       "      <th>Moody Rating</th>\n",
       "      <th>Initial Moody Rating</th>\n",
       "      <th>Bloomberg Composite</th>\n",
       "      <th>HCLB</th>\n",
       "      <th>MTG INT SHRTFLL</th>\n",
       "      <th>HIST INTRST SHRTFLL</th>\n",
       "      <th>Label</th>\n",
       "      <th>norm_label</th>\n",
       "      <th>USE</th>\n",
       "      <th>Year</th>\n",
       "    </tr>\n",
       "  </thead>\n",
       "  <tbody>\n",
       "    <tr>\n",
       "      <th>1808</th>\n",
       "      <td>FC_1509</td>\n",
       "      <td>MASTR_1179092_0000950136-02-002215.txt</td>\n",
       "      <td>AX</td>\n",
       "      <td>A</td>\n",
       "      <td>MALT 2002-1 AX</td>\n",
       "      <td>0.2771</td>\n",
       "      <td>paying</td>\n",
       "      <td>0.0</td>\n",
       "      <td>16.9397</td>\n",
       "      <td>2032-07-25</td>\n",
       "      <td>...</td>\n",
       "      <td>NaN</td>\n",
       "      <td>NaN</td>\n",
       "      <td>NR</td>\n",
       "      <td>0.0</td>\n",
       "      <td>0.0</td>\n",
       "      <td>0\\0\\0</td>\n",
       "      <td>IOpassMEY</td>\n",
       "      <td>ME</td>\n",
       "      <td>0</td>\n",
       "      <td>2002</td>\n",
       "    </tr>\n",
       "    <tr>\n",
       "      <th>1831</th>\n",
       "      <td>FC_1509</td>\n",
       "      <td>MASTR_1179092_0000950136-02-002215.txt</td>\n",
       "      <td>AX</td>\n",
       "      <td>A</td>\n",
       "      <td>MALT 2002-1 AX</td>\n",
       "      <td>0.2802</td>\n",
       "      <td>paying</td>\n",
       "      <td>0.0</td>\n",
       "      <td>16.9397</td>\n",
       "      <td>2032-07-25</td>\n",
       "      <td>...</td>\n",
       "      <td>NaN</td>\n",
       "      <td>NaN</td>\n",
       "      <td>NR</td>\n",
       "      <td>0.0</td>\n",
       "      <td>0.0</td>\n",
       "      <td>0\\0\\0</td>\n",
       "      <td>IOpassMEY</td>\n",
       "      <td>ME</td>\n",
       "      <td>0</td>\n",
       "      <td>2002</td>\n",
       "    </tr>\n",
       "  </tbody>\n",
       "</table>\n",
       "<p>2 rows × 22 columns</p>\n",
       "</div>"
      ],
      "text/plain": [
       "          PID                              Prospectus Class norm_class  \\\n",
       "1808  FC_1509  MASTR_1179092_0000950136-02-002215.txt    AX          A   \n",
       "1831  FC_1509  MASTR_1179092_0000950136-02-002215.txt    AX          A   \n",
       "\n",
       "                Name  Current_Balance Zero-Balance Payment Period Number  \\\n",
       "1808  MALT 2002-1 AX           0.2771                             paying   \n",
       "1831  MALT 2002-1 AX           0.2802                             paying   \n",
       "\n",
       "      Sum Principle Paid  MTG ORIG AMT    Maturity  ...  Moody Rating  \\\n",
       "1808                 0.0       16.9397  2032-07-25  ...           NaN   \n",
       "1831                 0.0       16.9397  2032-07-25  ...           NaN   \n",
       "\n",
       "     Initial Moody Rating Bloomberg Composite HCLB MTG INT SHRTFLL  \\\n",
       "1808                  NaN                  NR  0.0             0.0   \n",
       "1831                  NaN                  NR  0.0             0.0   \n",
       "\n",
       "      HIST INTRST SHRTFLL      Label norm_label USE  Year  \n",
       "1808                0\\0\\0  IOpassMEY         ME   0  2002  \n",
       "1831                0\\0\\0  IOpassMEY         ME   0  2002  \n",
       "\n",
       "[2 rows x 22 columns]"
      ]
     },
     "execution_count": 29,
     "metadata": {},
     "output_type": "execute_result"
    }
   ],
   "source": [
    "no_duplicated_data.loc[no_duplicated_data['CUSIP'] == '576434AH7']"
   ]
  },
  {
   "cell_type": "code",
   "execution_count": 30,
   "metadata": {},
   "outputs": [
    {
     "data": {
      "text/plain": [
       "CUSIP      PID      Current_Balance\n",
       "86358RX28  FC_2784  0.0000             2\n",
       "1266712S4  FC_96    3.0685             2\n",
       "576434AE4  FC_1509  0.0000             2\n",
       "86358RN52  FC_2609  0.0000             2\n",
       "86358RJ40  FC_386   0.0000             2\n",
       "dtype: int64"
      ]
     },
     "execution_count": 30,
     "metadata": {},
     "output_type": "execute_result"
    }
   ],
   "source": [
    "no_duplicated_data.groupby(by=['CUSIP','PID','Current_Balance']).size().sort_values(ascending=False).head()"
   ]
  },
  {
   "cell_type": "code",
   "execution_count": 31,
   "metadata": {},
   "outputs": [
    {
     "data": {
      "text/html": [
       "<div>\n",
       "<style scoped>\n",
       "    .dataframe tbody tr th:only-of-type {\n",
       "        vertical-align: middle;\n",
       "    }\n",
       "\n",
       "    .dataframe tbody tr th {\n",
       "        vertical-align: top;\n",
       "    }\n",
       "\n",
       "    .dataframe thead th {\n",
       "        text-align: right;\n",
       "    }\n",
       "</style>\n",
       "<table border=\"1\" class=\"dataframe\">\n",
       "  <thead>\n",
       "    <tr style=\"text-align: right;\">\n",
       "      <th></th>\n",
       "      <th>PID</th>\n",
       "      <th>Prospectus</th>\n",
       "      <th>Class</th>\n",
       "      <th>norm_class</th>\n",
       "      <th>Name</th>\n",
       "      <th>Current_Balance</th>\n",
       "      <th>Zero-Balance Payment Period Number</th>\n",
       "      <th>Sum Principle Paid</th>\n",
       "      <th>MTG ORIG AMT</th>\n",
       "      <th>Maturity</th>\n",
       "      <th>...</th>\n",
       "      <th>Moody Rating</th>\n",
       "      <th>Initial Moody Rating</th>\n",
       "      <th>Bloomberg Composite</th>\n",
       "      <th>HCLB</th>\n",
       "      <th>MTG INT SHRTFLL</th>\n",
       "      <th>HIST INTRST SHRTFLL</th>\n",
       "      <th>Label</th>\n",
       "      <th>norm_label</th>\n",
       "      <th>USE</th>\n",
       "      <th>Year</th>\n",
       "    </tr>\n",
       "  </thead>\n",
       "  <tbody>\n",
       "  </tbody>\n",
       "</table>\n",
       "<p>0 rows × 22 columns</p>\n",
       "</div>"
      ],
      "text/plain": [
       "Empty DataFrame\n",
       "Columns: [PID, Prospectus, Class, norm_class, Name, Current_Balance, Zero-Balance Payment Period Number, Sum Principle Paid, MTG ORIG AMT, Maturity, CUSIP, MTG_TRANCHE_TYP_LONG, Moody Rating, Initial Moody Rating, Bloomberg Composite, HCLB, MTG INT SHRTFLL, HIST INTRST SHRTFLL, Label, norm_label, USE, Year]\n",
       "Index: []\n",
       "\n",
       "[0 rows x 22 columns]"
      ]
     },
     "execution_count": 31,
     "metadata": {},
     "output_type": "execute_result"
    }
   ],
   "source": [
    "no_duplicated_data.loc[no_duplicated_data['CUSIP'] == '81744Mar3']"
   ]
  },
  {
   "cell_type": "code",
   "execution_count": 32,
   "metadata": {},
   "outputs": [
    {
     "data": {
      "text/plain": [
       "CUSIP      PID      Current_Balance  norm_class\n",
       "576434AE4  FC_1509  0.0000           A             2\n",
       "BCC2BQMX0  FC_704   14.2665          A             1\n",
       "12669CXX3  FC_404   0.0000           B             1\n",
       "12669CXJ4  FC_404   0.0000           A             1\n",
       "12669CXK1  FC_404   0.0000           A             1\n",
       "dtype: int64"
      ]
     },
     "execution_count": 32,
     "metadata": {},
     "output_type": "execute_result"
    }
   ],
   "source": [
    "no_duplicated_data.groupby(by=['CUSIP','PID','Current_Balance','norm_class']).size().sort_values(ascending=False).head()"
   ]
  },
  {
   "cell_type": "code",
   "execution_count": 33,
   "metadata": {},
   "outputs": [
    {
     "data": {
      "text/html": [
       "<div>\n",
       "<style scoped>\n",
       "    .dataframe tbody tr th:only-of-type {\n",
       "        vertical-align: middle;\n",
       "    }\n",
       "\n",
       "    .dataframe tbody tr th {\n",
       "        vertical-align: top;\n",
       "    }\n",
       "\n",
       "    .dataframe thead th {\n",
       "        text-align: right;\n",
       "    }\n",
       "</style>\n",
       "<table border=\"1\" class=\"dataframe\">\n",
       "  <thead>\n",
       "    <tr style=\"text-align: right;\">\n",
       "      <th></th>\n",
       "      <th>PID</th>\n",
       "      <th>Prospectus</th>\n",
       "      <th>Class</th>\n",
       "      <th>norm_class</th>\n",
       "      <th>Name</th>\n",
       "      <th>Current_Balance</th>\n",
       "      <th>Zero-Balance Payment Period Number</th>\n",
       "      <th>Sum Principle Paid</th>\n",
       "      <th>MTG ORIG AMT</th>\n",
       "      <th>Maturity</th>\n",
       "      <th>...</th>\n",
       "      <th>Moody Rating</th>\n",
       "      <th>Initial Moody Rating</th>\n",
       "      <th>Bloomberg Composite</th>\n",
       "      <th>HCLB</th>\n",
       "      <th>MTG INT SHRTFLL</th>\n",
       "      <th>HIST INTRST SHRTFLL</th>\n",
       "      <th>Label</th>\n",
       "      <th>norm_label</th>\n",
       "      <th>USE</th>\n",
       "      <th>Year</th>\n",
       "    </tr>\n",
       "  </thead>\n",
       "  <tbody>\n",
       "    <tr>\n",
       "      <th>1806</th>\n",
       "      <td>FC_1509</td>\n",
       "      <td>MASTR_1179092_0000950136-02-002215.txt</td>\n",
       "      <td>A5</td>\n",
       "      <td>A</td>\n",
       "      <td>MALT 2002-1 A5</td>\n",
       "      <td>0.0</td>\n",
       "      <td>1</td>\n",
       "      <td>25.65</td>\n",
       "      <td>25.65</td>\n",
       "      <td>2032-07-25</td>\n",
       "      <td>...</td>\n",
       "      <td>NaN</td>\n",
       "      <td>NaN</td>\n",
       "      <td>NR</td>\n",
       "      <td>0.0</td>\n",
       "      <td>NaN</td>\n",
       "      <td>0\\0\\0</td>\n",
       "      <td>MED</td>\n",
       "      <td>ME</td>\n",
       "      <td>0</td>\n",
       "      <td>2002</td>\n",
       "    </tr>\n",
       "    <tr>\n",
       "      <th>1829</th>\n",
       "      <td>FC_1509</td>\n",
       "      <td>MASTR_1179092_0000950136-02-002215.txt</td>\n",
       "      <td>A5</td>\n",
       "      <td>A</td>\n",
       "      <td>MALT 2002-1 A5</td>\n",
       "      <td>0.0</td>\n",
       "      <td>1</td>\n",
       "      <td>25.65</td>\n",
       "      <td>25.65</td>\n",
       "      <td>2032-07-25</td>\n",
       "      <td>...</td>\n",
       "      <td>NaN</td>\n",
       "      <td>NaN</td>\n",
       "      <td>NR</td>\n",
       "      <td>0.0</td>\n",
       "      <td>NaN</td>\n",
       "      <td>0\\0\\0</td>\n",
       "      <td>MED</td>\n",
       "      <td>ME</td>\n",
       "      <td>0</td>\n",
       "      <td>2002</td>\n",
       "    </tr>\n",
       "  </tbody>\n",
       "</table>\n",
       "<p>2 rows × 22 columns</p>\n",
       "</div>"
      ],
      "text/plain": [
       "          PID                              Prospectus Class norm_class  \\\n",
       "1806  FC_1509  MASTR_1179092_0000950136-02-002215.txt    A5          A   \n",
       "1829  FC_1509  MASTR_1179092_0000950136-02-002215.txt    A5          A   \n",
       "\n",
       "                Name  Current_Balance Zero-Balance Payment Period Number  \\\n",
       "1806  MALT 2002-1 A5              0.0                                  1   \n",
       "1829  MALT 2002-1 A5              0.0                                  1   \n",
       "\n",
       "      Sum Principle Paid  MTG ORIG AMT    Maturity  ...  Moody Rating  \\\n",
       "1806               25.65         25.65  2032-07-25  ...           NaN   \n",
       "1829               25.65         25.65  2032-07-25  ...           NaN   \n",
       "\n",
       "     Initial Moody Rating Bloomberg Composite HCLB MTG INT SHRTFLL  \\\n",
       "1806                  NaN                  NR  0.0             NaN   \n",
       "1829                  NaN                  NR  0.0             NaN   \n",
       "\n",
       "      HIST INTRST SHRTFLL  Label norm_label USE  Year  \n",
       "1806                0\\0\\0    MED         ME   0  2002  \n",
       "1829                0\\0\\0    MED         ME   0  2002  \n",
       "\n",
       "[2 rows x 22 columns]"
      ]
     },
     "execution_count": 33,
     "metadata": {},
     "output_type": "execute_result"
    }
   ],
   "source": [
    "no_duplicated_data.loc[no_duplicated_data['CUSIP'] == '576434AE4']"
   ]
  },
  {
   "cell_type": "code",
   "execution_count": 34,
   "metadata": {},
   "outputs": [
    {
     "data": {
      "text/plain": [
       "CUSIP      PID     Current_Balance  norm_class  MTG_TRANCHE_TYP_LONG\n",
       "BCC2BQMX0  FC_704  14.2665          A           STEP,AFC,AS             1\n",
       "12669CXJ4  FC_404  0.0000           A           SEQ,AS                  1\n",
       "12669CXL9  FC_404  0.0000           A           SEQ,AS                  1\n",
       "12669CXM7  FC_404  0.0000           A           SEQ,AS                  1\n",
       "12669CXN5  FC_404  0.0000           A           SEQ,AS                  1\n",
       "dtype: int64"
      ]
     },
     "execution_count": 34,
     "metadata": {},
     "output_type": "execute_result"
    }
   ],
   "source": [
    "no_duplicated_data.groupby(by=['CUSIP','PID','Current_Balance','norm_class','MTG_TRANCHE_TYP_LONG']).size().sort_values(ascending=False).head()"
   ]
  },
  {
   "cell_type": "markdown",
   "metadata": {},
   "source": [
    "Here is the way to find what CUSIPs are duplicated. (Here only shows the top five and bottom five results which are all >1). The series can be exported using pandas function"
   ]
  },
  {
   "cell_type": "code",
   "execution_count": 35,
   "metadata": {},
   "outputs": [],
   "source": [
    "#Get series of CUSIP and get count > 1\n",
    "series = data.groupby(by=['CUSIP']).size().sort_values(ascending=False)\n",
    "series = series.loc[series > 1]"
   ]
  },
  {
   "cell_type": "code",
   "execution_count": 36,
   "metadata": {},
   "outputs": [
    {
     "data": {
      "text/plain": [
       "CUSIP\n",
       "1266712B1    4\n",
       "126671Z66    4\n",
       "1266712A3    4\n",
       "126671Z41    4\n",
       "126671Z74    4\n",
       "dtype: int64"
      ]
     },
     "execution_count": 36,
     "metadata": {},
     "output_type": "execute_result"
    }
   ],
   "source": [
    "series.head()"
   ]
  },
  {
   "cell_type": "code",
   "execution_count": 37,
   "metadata": {},
   "outputs": [
    {
     "data": {
      "text/plain": [
       "CUSIP\n",
       "05948KDX4    2\n",
       "05948KDW6    2\n",
       "05948KEP0    2\n",
       "05948KEQ8    2\n",
       "05948KER6    2\n",
       "dtype: int64"
      ]
     },
     "execution_count": 37,
     "metadata": {},
     "output_type": "execute_result"
    }
   ],
   "source": [
    "series.tail()"
   ]
  },
  {
   "cell_type": "code",
   "execution_count": 38,
   "metadata": {},
   "outputs": [],
   "source": [
    "#data.to_pickle('parent_data_Label_Securities_v3_USE_2002-2007')"
   ]
  },
  {
   "cell_type": "code",
   "execution_count": 39,
   "metadata": {},
   "outputs": [],
   "source": [
    "export_nc1 = nc1['Name'] + ' MTGE'"
   ]
  },
  {
   "cell_type": "code",
   "execution_count": 40,
   "metadata": {},
   "outputs": [
    {
     "data": {
      "text/plain": [
       "(6427,)"
      ]
     },
     "execution_count": 40,
     "metadata": {},
     "output_type": "execute_result"
    }
   ],
   "source": [
    "export_nc1.shape"
   ]
  },
  {
   "cell_type": "code",
   "execution_count": 41,
   "metadata": {},
   "outputs": [],
   "source": [
    "export_nc1 = export_nc1.append([export_nc1]*3,ignore_index=True)"
   ]
  },
  {
   "cell_type": "code",
   "execution_count": 42,
   "metadata": {},
   "outputs": [
    {
     "data": {
      "text/plain": [
       "(25708,)"
      ]
     },
     "execution_count": 42,
     "metadata": {},
     "output_type": "execute_result"
    }
   ],
   "source": [
    "export_nc1.shape"
   ]
  },
  {
   "cell_type": "code",
   "execution_count": 43,
   "metadata": {},
   "outputs": [],
   "source": [
    "export_nc1 = export_nc1.sort_values()"
   ]
  },
  {
   "cell_type": "code",
   "execution_count": 44,
   "metadata": {},
   "outputs": [],
   "source": [
    "shortfall_dict = {0:'HISTORICAL_BASIS_RISK_SHORTFALL',1:'HIST_UNSUPPORTED_RISK_SHORTFALL',2:'HIST_CUMUL_INT_SHRTFLL_BOND',3:'HIST_INTEREST_SHORTFALL'}\n",
    "shortfall = pd.Series(shortfall_dict)"
   ]
  },
  {
   "cell_type": "code",
   "execution_count": 45,
   "metadata": {},
   "outputs": [
    {
     "data": {
      "text/plain": [
       "0    HISTORICAL_BASIS_RISK_SHORTFALL\n",
       "1    HIST_UNSUPPORTED_RISK_SHORTFALL\n",
       "2        HIST_CUMUL_INT_SHRTFLL_BOND\n",
       "3            HIST_INTEREST_SHORTFALL\n",
       "dtype: object"
      ]
     },
     "execution_count": 45,
     "metadata": {},
     "output_type": "execute_result"
    }
   ],
   "source": [
    "shortfall"
   ]
  },
  {
   "cell_type": "code",
   "execution_count": 46,
   "metadata": {},
   "outputs": [],
   "source": [
    "shortfall_series = shortfall.append([shortfall]*int(export_nc1.shape[0]/4-1),ignore_index=True)"
   ]
  },
  {
   "cell_type": "code",
   "execution_count": 47,
   "metadata": {},
   "outputs": [
    {
     "data": {
      "text/plain": [
       "(25708,)"
      ]
     },
     "execution_count": 47,
     "metadata": {},
     "output_type": "execute_result"
    }
   ],
   "source": [
    "shortfall_series.shape"
   ]
  },
  {
   "cell_type": "code",
   "execution_count": 48,
   "metadata": {},
   "outputs": [
    {
     "data": {
      "text/plain": [
       "(25708,)"
      ]
     },
     "execution_count": 48,
     "metadata": {},
     "output_type": "execute_result"
    }
   ],
   "source": [
    "export_nc1.shape"
   ]
  },
  {
   "cell_type": "code",
   "execution_count": 49,
   "metadata": {},
   "outputs": [],
   "source": [
    "export = pd.DataFrame({'NAME':export_nc1,'SHORTFALL_TYPE':shortfall_series})"
   ]
  },
  {
   "cell_type": "code",
   "execution_count": 50,
   "metadata": {},
   "outputs": [
    {
     "data": {
      "text/plain": [
       "NAME\n",
       "AABST 2005-4 B1 MTGE        4\n",
       "MLMI 2006-RM4 M6 MTGE       4\n",
       "MLMI 2006-RM4 M5 MTGE       4\n",
       "MLMI 2006-RM4 M4 MTGE       4\n",
       "MLMI 2006-RM4 M3 MTGE       4\n",
       "MLMI 2006-RM4 M2 MTGE       4\n",
       "MLMI 2006-RM4 M1 MTGE       4\n",
       "MLMI 2006-RM4 B4 MTGE       4\n",
       "MLMI 2006-RM4 B3 MTGE       4\n",
       "MLMI 2006-RM4 B2 MTGE       4\n",
       "MLMI 2006-RM5 B1 MTGE       4\n",
       "MLMI 2006-RM4 B1 MTGE       4\n",
       "MLMI 2006-OPT1 M5 MTGE      4\n",
       "MLMI 2006-OPT1 M4 MTGE      4\n",
       "MLMI 2006-OPT1 M3 MTGE      4\n",
       "MLMI 2006-OPT1 B3 MTGE      4\n",
       "MLMI 2006-OPT1 B2 MTGE      4\n",
       "MLMI 2006-OPT1 B1 MTGE      4\n",
       "MLMI 2006-HE6 M6 MTGE       4\n",
       "MLMI 2006-HE6 M5 MTGE       4\n",
       "MLMI 2006-HE6 M4 MTGE       4\n",
       "MLMI 2006-OPT1 M6 MTGE      4\n",
       "MLMI 2006-RM5 B2 MTGE       4\n",
       "MLMI 2006-RM5 B3 MTGE       4\n",
       "MLMI 2006-RM5 M1 MTGE       4\n",
       "MLMI 2006-WMC1 M4 MTGE      4\n",
       "MLMI 2006-WMC1 M3 MTGE      4\n",
       "MLMI 2006-WMC1 B3 MTGE      4\n",
       "MLMI 2006-WMC1 B2B MTGE     4\n",
       "MLMI 2006-WMC1 B2A MTGE     4\n",
       "                           ..\n",
       "CWALT 2006-OC1 M2 MTGE      4\n",
       "CWALT 2006-OC1 M1 MTGE      4\n",
       "CWALT 2006-OA9 M9 MTGE      4\n",
       "CWALT 2006-OC6 M2 MTGE      4\n",
       "CWALT 2007-22 B1 MTGE       4\n",
       "CWALT 2006-OC6 M3 MTGE      4\n",
       "CWALT 2006-OC6 M5 MTGE      4\n",
       "CWALT 2007-21CB M MTGE      4\n",
       "CWALT 2007-21CB B5 MTGE     4\n",
       "CWALT 2007-21CB B4 MTGE     4\n",
       "CWALT 2007-21CB B3 MTGE     4\n",
       "CWALT 2007-21CB B2 MTGE     4\n",
       "CWALT 2007-21CB B1 MTGE     4\n",
       "CWALT 2007-21CB 2A6 MTGE    4\n",
       "CWALT 2006-OC9 M8 MTGE      4\n",
       "CWALT 2006-OC9 M7 MTGE      4\n",
       "CWALT 2006-OC9 M6 MTGE      4\n",
       "CWALT 2006-OC9 M5 MTGE      4\n",
       "CWALT 2006-OC9 M4 MTGE      4\n",
       "CWALT 2006-OC9 M3 MTGE      4\n",
       "CWALT 2006-OC9 M2 MTGE      4\n",
       "CWALT 2006-OC9 M1 MTGE      4\n",
       "CWALT 2006-OC9 AR MTGE      4\n",
       "CWALT 2006-OC9 A2B MTGE     4\n",
       "CWALT 2006-OC6 M9 MTGE      4\n",
       "CWALT 2006-OC6 M8 MTGE      4\n",
       "CWALT 2006-OC6 M7 MTGE      4\n",
       "CWALT 2006-OC6 M6 MTGE      4\n",
       "CWALT 2006-OC6 M4 MTGE      4\n",
       "WMLT 2007-A B6 MTGE         4\n",
       "Name: SHORTFALL_TYPE, Length: 6370, dtype: int64"
      ]
     },
     "execution_count": 50,
     "metadata": {},
     "output_type": "execute_result"
    }
   ],
   "source": [
    "export.groupby(['NAME'])['SHORTFALL_TYPE'].nunique().sort_values()"
   ]
  },
  {
   "cell_type": "code",
   "execution_count": 51,
   "metadata": {},
   "outputs": [],
   "source": [
    "export.to_csv('get_shortfall.csv')"
   ]
  },
  {
   "cell_type": "code",
   "execution_count": 58,
   "metadata": {},
   "outputs": [
    {
     "data": {
      "text/plain": [
       "CUSIP\n",
       "1266712F2    4\n",
       "126671Y75    4\n",
       "126671Y91    4\n",
       "126671Z25    4\n",
       "126671Z33    4\n",
       "126671Z41    4\n",
       "126671Z58    4\n",
       "126671Z66    4\n",
       "126671Z74    4\n",
       "126671Z82    4\n",
       "126671Z90    4\n",
       "126671Y67    4\n",
       "126671Y83    4\n",
       "1266712B1    4\n",
       "1266712A3    4\n",
       "05948KAY5    3\n",
       "05948KAX7    3\n",
       "94974SAG8    3\n",
       "94974SAF0    3\n",
       "94974SAD5    3\n",
       "94974SAC7    3\n",
       "94974SAB9    3\n",
       "05948KBM0    3\n",
       "05948KBL2    3\n",
       "05948KBK4    3\n",
       "94974SAA1    3\n",
       "94974SAH6    3\n",
       "05948KBB4    3\n",
       "05948KAW9    3\n",
       "05948KAU3    3\n",
       "            ..\n",
       "59025CAC4    1\n",
       "59025CAB6    1\n",
       "59025CAA8    1\n",
       "59024FAR5    1\n",
       "59023QAQ4    1\n",
       "59023XAE6    1\n",
       "59023XAF3    1\n",
       "59023XAG1    1\n",
       "59023XAH9    1\n",
       "59023XAJ5    1\n",
       "59023XAK2    1\n",
       "59023XAL0    1\n",
       "59023XAM8    1\n",
       "59023XAN6    1\n",
       "59024FAA2    1\n",
       "59024FAB0    1\n",
       "59024FAC8    1\n",
       "59024FAD6    1\n",
       "59024FAE4    1\n",
       "59024FAF1    1\n",
       "59024FAG9    1\n",
       "59024FAH7    1\n",
       "59024FAJ3    1\n",
       "59024FAK0    1\n",
       "59024FAL8    1\n",
       "59024FAM6    1\n",
       "59024FAN4    1\n",
       "59024FAP9    1\n",
       "59024FAQ7    1\n",
       "00252FAA9    1\n",
       "Length: 30855, dtype: int64"
      ]
     },
     "execution_count": 58,
     "metadata": {},
     "output_type": "execute_result"
    }
   ],
   "source": [
    "no_duplicated_data.groupby(['CUSIP']).size().sort_values(ascending=False)"
   ]
  },
  {
   "cell_type": "code",
   "execution_count": 60,
   "metadata": {},
   "outputs": [
    {
     "data": {
      "text/html": [
       "<div>\n",
       "<style scoped>\n",
       "    .dataframe tbody tr th:only-of-type {\n",
       "        vertical-align: middle;\n",
       "    }\n",
       "\n",
       "    .dataframe tbody tr th {\n",
       "        vertical-align: top;\n",
       "    }\n",
       "\n",
       "    .dataframe thead th {\n",
       "        text-align: right;\n",
       "    }\n",
       "</style>\n",
       "<table border=\"1\" class=\"dataframe\">\n",
       "  <thead>\n",
       "    <tr style=\"text-align: right;\">\n",
       "      <th></th>\n",
       "      <th>PID</th>\n",
       "      <th>Prospectus</th>\n",
       "      <th>Class</th>\n",
       "      <th>norm_class</th>\n",
       "      <th>Name</th>\n",
       "      <th>Current_Balance</th>\n",
       "      <th>Zero-Balance Payment Period Number</th>\n",
       "      <th>Sum Principle Paid</th>\n",
       "      <th>MTG ORIG AMT</th>\n",
       "      <th>Maturity</th>\n",
       "      <th>...</th>\n",
       "      <th>Moody Rating</th>\n",
       "      <th>Initial Moody Rating</th>\n",
       "      <th>Bloomberg Composite</th>\n",
       "      <th>HCLB</th>\n",
       "      <th>MTG INT SHRTFLL</th>\n",
       "      <th>HIST INTRST SHRTFLL</th>\n",
       "      <th>Label</th>\n",
       "      <th>norm_label</th>\n",
       "      <th>USE</th>\n",
       "      <th>Year</th>\n",
       "    </tr>\n",
       "  </thead>\n",
       "  <tbody>\n",
       "    <tr>\n",
       "      <th>7161</th>\n",
       "      <td>FC_1095</td>\n",
       "      <td>COUNTRYWIDE_1313077_0000950136-04-004590.htm</td>\n",
       "      <td>1A</td>\n",
       "      <td>A</td>\n",
       "      <td>CWL 2004-1 1A</td>\n",
       "      <td>47.9382</td>\n",
       "      <td>paying</td>\n",
       "      <td>1468.7518</td>\n",
       "      <td>1516.69</td>\n",
       "      <td>5/25/2034</td>\n",
       "      <td>...</td>\n",
       "      <td>Aa2</td>\n",
       "      <td>Aaa</td>\n",
       "      <td>AA+</td>\n",
       "      <td>0.0</td>\n",
       "      <td>0.0</td>\n",
       "      <td>0\\0\\0</td>\n",
       "      <td>MEY</td>\n",
       "      <td>ME</td>\n",
       "      <td>0</td>\n",
       "      <td>2004</td>\n",
       "    </tr>\n",
       "    <tr>\n",
       "      <th>9044</th>\n",
       "      <td>FC_2318</td>\n",
       "      <td>COUNTRYWIDE_1312966_0000950136-04-004574.htm</td>\n",
       "      <td>1A</td>\n",
       "      <td>A</td>\n",
       "      <td>CWL 2004-1 1A</td>\n",
       "      <td>47.9382</td>\n",
       "      <td>paying</td>\n",
       "      <td>1468.7518</td>\n",
       "      <td>1516.69</td>\n",
       "      <td>5/25/2034</td>\n",
       "      <td>...</td>\n",
       "      <td>Aa2</td>\n",
       "      <td>Aaa</td>\n",
       "      <td>AA+</td>\n",
       "      <td>0.0</td>\n",
       "      <td>0.0</td>\n",
       "      <td>0\\0\\0</td>\n",
       "      <td>MEY</td>\n",
       "      <td>ME</td>\n",
       "      <td>0</td>\n",
       "      <td>2004</td>\n",
       "    </tr>\n",
       "    <tr>\n",
       "      <th>9396</th>\n",
       "      <td>FC_2566</td>\n",
       "      <td>COUNTRYWIDE_1304962_0000950136-04-003232.htm</td>\n",
       "      <td>1A</td>\n",
       "      <td>A</td>\n",
       "      <td>CWL 2004-1 1A</td>\n",
       "      <td>47.9382</td>\n",
       "      <td>paying</td>\n",
       "      <td>1468.7518</td>\n",
       "      <td>1516.69</td>\n",
       "      <td>5/25/2034</td>\n",
       "      <td>...</td>\n",
       "      <td>Aa2</td>\n",
       "      <td>Aaa</td>\n",
       "      <td>AA+</td>\n",
       "      <td>0.0</td>\n",
       "      <td>0.0</td>\n",
       "      <td>0\\0\\0</td>\n",
       "      <td>MEY</td>\n",
       "      <td>ME</td>\n",
       "      <td>0</td>\n",
       "      <td>2004</td>\n",
       "    </tr>\n",
       "    <tr>\n",
       "      <th>10999</th>\n",
       "      <td>FC_3476</td>\n",
       "      <td>COUNTRYWIDE_1310068_0000950136-04-004170.htm</td>\n",
       "      <td>1A</td>\n",
       "      <td>A</td>\n",
       "      <td>CWL 2004-1 1A</td>\n",
       "      <td>47.9382</td>\n",
       "      <td>paying</td>\n",
       "      <td>1468.7518</td>\n",
       "      <td>1516.69</td>\n",
       "      <td>5/25/2034</td>\n",
       "      <td>...</td>\n",
       "      <td>Aa2</td>\n",
       "      <td>Aaa</td>\n",
       "      <td>AA+</td>\n",
       "      <td>0.0</td>\n",
       "      <td>0.0</td>\n",
       "      <td>0\\0\\0</td>\n",
       "      <td>MEY</td>\n",
       "      <td>ME</td>\n",
       "      <td>0</td>\n",
       "      <td>2004</td>\n",
       "    </tr>\n",
       "  </tbody>\n",
       "</table>\n",
       "<p>4 rows × 22 columns</p>\n",
       "</div>"
      ],
      "text/plain": [
       "           PID                                    Prospectus Class norm_class  \\\n",
       "7161   FC_1095  COUNTRYWIDE_1313077_0000950136-04-004590.htm    1A          A   \n",
       "9044   FC_2318  COUNTRYWIDE_1312966_0000950136-04-004574.htm    1A          A   \n",
       "9396   FC_2566  COUNTRYWIDE_1304962_0000950136-04-003232.htm    1A          A   \n",
       "10999  FC_3476  COUNTRYWIDE_1310068_0000950136-04-004170.htm    1A          A   \n",
       "\n",
       "                Name  Current_Balance Zero-Balance Payment Period Number  \\\n",
       "7161   CWL 2004-1 1A          47.9382                             paying   \n",
       "9044   CWL 2004-1 1A          47.9382                             paying   \n",
       "9396   CWL 2004-1 1A          47.9382                             paying   \n",
       "10999  CWL 2004-1 1A          47.9382                             paying   \n",
       "\n",
       "       Sum Principle Paid  MTG ORIG AMT   Maturity  ...  Moody Rating  \\\n",
       "7161            1468.7518       1516.69  5/25/2034  ...           Aa2   \n",
       "9044            1468.7518       1516.69  5/25/2034  ...           Aa2   \n",
       "9396            1468.7518       1516.69  5/25/2034  ...           Aa2   \n",
       "10999           1468.7518       1516.69  5/25/2034  ...           Aa2   \n",
       "\n",
       "      Initial Moody Rating Bloomberg Composite HCLB MTG INT SHRTFLL  \\\n",
       "7161                   Aaa                 AA+  0.0             0.0   \n",
       "9044                   Aaa                 AA+  0.0             0.0   \n",
       "9396                   Aaa                 AA+  0.0             0.0   \n",
       "10999                  Aaa                 AA+  0.0             0.0   \n",
       "\n",
       "       HIST INTRST SHRTFLL  Label norm_label USE  Year  \n",
       "7161                 0\\0\\0    MEY         ME   0  2004  \n",
       "9044                 0\\0\\0    MEY         ME   0  2004  \n",
       "9396                 0\\0\\0    MEY         ME   0  2004  \n",
       "10999                0\\0\\0    MEY         ME   0  2004  \n",
       "\n",
       "[4 rows x 22 columns]"
      ]
     },
     "execution_count": 60,
     "metadata": {},
     "output_type": "execute_result"
    }
   ],
   "source": [
    "no_duplicated_data.loc[no_duplicated_data['CUSIP']=='126671Y75']"
   ]
  },
  {
   "cell_type": "code",
   "execution_count": 61,
   "metadata": {},
   "outputs": [
    {
     "data": {
      "text/html": [
       "<div>\n",
       "<style scoped>\n",
       "    .dataframe tbody tr th:only-of-type {\n",
       "        vertical-align: middle;\n",
       "    }\n",
       "\n",
       "    .dataframe tbody tr th {\n",
       "        vertical-align: top;\n",
       "    }\n",
       "\n",
       "    .dataframe thead th {\n",
       "        text-align: right;\n",
       "    }\n",
       "</style>\n",
       "<table border=\"1\" class=\"dataframe\">\n",
       "  <thead>\n",
       "    <tr style=\"text-align: right;\">\n",
       "      <th></th>\n",
       "      <th>PID</th>\n",
       "      <th>Prospectus</th>\n",
       "      <th>Class</th>\n",
       "      <th>norm_class</th>\n",
       "      <th>Name</th>\n",
       "      <th>Current_Balance</th>\n",
       "      <th>Zero-Balance Payment Period Number</th>\n",
       "      <th>Sum Principle Paid</th>\n",
       "      <th>MTG ORIG AMT</th>\n",
       "      <th>Maturity</th>\n",
       "      <th>...</th>\n",
       "      <th>Moody Rating</th>\n",
       "      <th>Initial Moody Rating</th>\n",
       "      <th>Bloomberg Composite</th>\n",
       "      <th>HCLB</th>\n",
       "      <th>MTG INT SHRTFLL</th>\n",
       "      <th>HIST INTRST SHRTFLL</th>\n",
       "      <th>Label</th>\n",
       "      <th>norm_label</th>\n",
       "      <th>USE</th>\n",
       "      <th>Year</th>\n",
       "    </tr>\n",
       "  </thead>\n",
       "  <tbody>\n",
       "    <tr>\n",
       "      <th>7165</th>\n",
       "      <td>FC_1095</td>\n",
       "      <td>COUNTRYWIDE_1313077_0000950136-04-004590.htm</td>\n",
       "      <td>AR</td>\n",
       "      <td>A</td>\n",
       "      <td>CWL 2004-1 AR</td>\n",
       "      <td>0.0</td>\n",
       "      <td>1</td>\n",
       "      <td>0.0001</td>\n",
       "      <td>0.0001</td>\n",
       "      <td>3/25/2004</td>\n",
       "      <td>...</td>\n",
       "      <td>WR</td>\n",
       "      <td>Aaa</td>\n",
       "      <td>NR</td>\n",
       "      <td>NaN</td>\n",
       "      <td>NaN</td>\n",
       "      <td>NaN</td>\n",
       "      <td>MED</td>\n",
       "      <td>ME</td>\n",
       "      <td>0</td>\n",
       "      <td>2004</td>\n",
       "    </tr>\n",
       "    <tr>\n",
       "      <th>9048</th>\n",
       "      <td>FC_2318</td>\n",
       "      <td>COUNTRYWIDE_1312966_0000950136-04-004574.htm</td>\n",
       "      <td>AR</td>\n",
       "      <td>A</td>\n",
       "      <td>CWL 2004-1 AR</td>\n",
       "      <td>0.0</td>\n",
       "      <td>1</td>\n",
       "      <td>0.0001</td>\n",
       "      <td>0.0001</td>\n",
       "      <td>3/25/2004</td>\n",
       "      <td>...</td>\n",
       "      <td>WR</td>\n",
       "      <td>Aaa</td>\n",
       "      <td>NR</td>\n",
       "      <td>NaN</td>\n",
       "      <td>NaN</td>\n",
       "      <td>NaN</td>\n",
       "      <td>MED</td>\n",
       "      <td>ME</td>\n",
       "      <td>0</td>\n",
       "      <td>2004</td>\n",
       "    </tr>\n",
       "    <tr>\n",
       "      <th>9400</th>\n",
       "      <td>FC_2566</td>\n",
       "      <td>COUNTRYWIDE_1304962_0000950136-04-003232.htm</td>\n",
       "      <td>AR</td>\n",
       "      <td>A</td>\n",
       "      <td>CWL 2004-1 AR</td>\n",
       "      <td>0.0</td>\n",
       "      <td>1</td>\n",
       "      <td>0.0001</td>\n",
       "      <td>0.0001</td>\n",
       "      <td>3/25/2004</td>\n",
       "      <td>...</td>\n",
       "      <td>WR</td>\n",
       "      <td>Aaa</td>\n",
       "      <td>NR</td>\n",
       "      <td>NaN</td>\n",
       "      <td>NaN</td>\n",
       "      <td>NaN</td>\n",
       "      <td>MED</td>\n",
       "      <td>ME</td>\n",
       "      <td>0</td>\n",
       "      <td>2004</td>\n",
       "    </tr>\n",
       "    <tr>\n",
       "      <th>11003</th>\n",
       "      <td>FC_3476</td>\n",
       "      <td>COUNTRYWIDE_1310068_0000950136-04-004170.htm</td>\n",
       "      <td>AR</td>\n",
       "      <td>A</td>\n",
       "      <td>CWL 2004-1 AR</td>\n",
       "      <td>0.0</td>\n",
       "      <td>1</td>\n",
       "      <td>0.0001</td>\n",
       "      <td>0.0001</td>\n",
       "      <td>3/25/2004</td>\n",
       "      <td>...</td>\n",
       "      <td>WR</td>\n",
       "      <td>Aaa</td>\n",
       "      <td>NR</td>\n",
       "      <td>0.0</td>\n",
       "      <td>NaN</td>\n",
       "      <td>NaN</td>\n",
       "      <td>MED</td>\n",
       "      <td>ME</td>\n",
       "      <td>0</td>\n",
       "      <td>2004</td>\n",
       "    </tr>\n",
       "  </tbody>\n",
       "</table>\n",
       "<p>4 rows × 22 columns</p>\n",
       "</div>"
      ],
      "text/plain": [
       "           PID                                    Prospectus Class norm_class  \\\n",
       "7165   FC_1095  COUNTRYWIDE_1313077_0000950136-04-004590.htm    AR          A   \n",
       "9048   FC_2318  COUNTRYWIDE_1312966_0000950136-04-004574.htm    AR          A   \n",
       "9400   FC_2566  COUNTRYWIDE_1304962_0000950136-04-003232.htm    AR          A   \n",
       "11003  FC_3476  COUNTRYWIDE_1310068_0000950136-04-004170.htm    AR          A   \n",
       "\n",
       "                Name  Current_Balance Zero-Balance Payment Period Number  \\\n",
       "7165   CWL 2004-1 AR              0.0                                  1   \n",
       "9048   CWL 2004-1 AR              0.0                                  1   \n",
       "9400   CWL 2004-1 AR              0.0                                  1   \n",
       "11003  CWL 2004-1 AR              0.0                                  1   \n",
       "\n",
       "       Sum Principle Paid  MTG ORIG AMT   Maturity  ...  Moody Rating  \\\n",
       "7165               0.0001        0.0001  3/25/2004  ...            WR   \n",
       "9048               0.0001        0.0001  3/25/2004  ...            WR   \n",
       "9400               0.0001        0.0001  3/25/2004  ...            WR   \n",
       "11003              0.0001        0.0001  3/25/2004  ...            WR   \n",
       "\n",
       "      Initial Moody Rating Bloomberg Composite HCLB MTG INT SHRTFLL  \\\n",
       "7165                   Aaa                  NR  NaN             NaN   \n",
       "9048                   Aaa                  NR  NaN             NaN   \n",
       "9400                   Aaa                  NR  NaN             NaN   \n",
       "11003                  Aaa                  NR  0.0             NaN   \n",
       "\n",
       "       HIST INTRST SHRTFLL  Label norm_label USE  Year  \n",
       "7165                   NaN    MED         ME   0  2004  \n",
       "9048                   NaN    MED         ME   0  2004  \n",
       "9400                   NaN    MED         ME   0  2004  \n",
       "11003                  NaN    MED         ME   0  2004  \n",
       "\n",
       "[4 rows x 22 columns]"
      ]
     },
     "execution_count": 61,
     "metadata": {},
     "output_type": "execute_result"
    }
   ],
   "source": [
    "no_duplicated_data.loc[no_duplicated_data['CUSIP']=='1266712F2']"
   ]
  },
  {
   "cell_type": "code",
   "execution_count": null,
   "metadata": {},
   "outputs": [],
   "source": []
  }
 ],
 "metadata": {
  "kernelspec": {
   "display_name": "Python 3",
   "language": "python",
   "name": "python3"
  },
  "language_info": {
   "codemirror_mode": {
    "name": "ipython",
    "version": 3
   },
   "file_extension": ".py",
   "mimetype": "text/x-python",
   "name": "python",
   "nbconvert_exporter": "python",
   "pygments_lexer": "ipython3",
   "version": "3.6.7"
  }
 },
 "nbformat": 4,
 "nbformat_minor": 2
}
