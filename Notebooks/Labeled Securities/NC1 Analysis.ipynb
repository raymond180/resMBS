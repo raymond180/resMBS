{
 "cells": [
  {
   "cell_type": "code",
   "execution_count": 1,
   "metadata": {},
   "outputs": [],
   "source": [
    "import pandas as pd\n",
    "import numpy as np\n",
    "\n",
    "%matplotlib inline\n",
    "import matplotlib\n",
    "import matplotlib.pyplot as plt\n",
    "from IPython.display import set_matplotlib_formats\n",
    "set_matplotlib_formats('retina')"
   ]
  },
  {
   "cell_type": "markdown",
   "metadata": {},
   "source": [
    "This notebook shows some basics stats about securities labeled as NC1"
   ]
  },
  {
   "cell_type": "markdown",
   "metadata": {},
   "source": [
    "## Load Data"
   ]
  },
  {
   "cell_type": "code",
   "execution_count": 2,
   "metadata": {},
   "outputs": [],
   "source": [
    "data = pd.read_csv('trimmed_2005_v2.csv')"
   ]
  },
  {
   "cell_type": "code",
   "execution_count": 3,
   "metadata": {},
   "outputs": [],
   "source": [
    "#Get all rows with NC1\n",
    "nc1 = data.loc[data['Label'] == 'NC1(failing)']"
   ]
  },
  {
   "cell_type": "markdown",
   "metadata": {},
   "source": [
    "## Data Validation"
   ]
  },
  {
   "cell_type": "code",
   "execution_count": 4,
   "metadata": {},
   "outputs": [
    {
     "name": "stdout",
     "output_type": "stream",
     "text": [
      "we have 5015 rows of data\n",
      "we have 1402 rows of NC1\n",
      "percentage: 27.96%\n"
     ]
    }
   ],
   "source": [
    "print('we have {} rows of data'.format(data.shape[0]))\n",
    "print('we have {} rows of NC1'.format(nc1.shape[0]))\n",
    "print('percentage: {:.2f}%'.format(nc1.shape[0]/data.shape[0]*100))"
   ]
  },
  {
   "cell_type": "code",
   "execution_count": 5,
   "metadata": {},
   "outputs": [
    {
     "name": "stdout",
     "output_type": "stream",
     "text": [
      "List of all labels count:\n"
     ]
    },
    {
     "data": {
      "text/plain": [
       "Label\n",
       "0                                59\n",
       "1.4                              99\n",
       "FE                              374\n",
       "IOfailing                         1\n",
       "IOpassMED                        46\n",
       "IOpassMEY                        97\n",
       "MED                             965\n",
       "MEY                            1108\n",
       "NC1(failing)                   1388\n",
       "NC2(z>1 nsf)                     36\n",
       "NC3(z>1, not paid off, nsf)      56\n",
       "NMEm                            696\n",
       "NMEs                             34\n",
       "Name: CUSIP, dtype: int64"
      ]
     },
     "execution_count": 5,
     "metadata": {},
     "output_type": "execute_result"
    }
   ],
   "source": [
    "#groupby label and check # unique value\n",
    "print('List of all labels count:')\n",
    "data.groupby('Label')['CUSIP'].nunique()"
   ]
  },
  {
   "cell_type": "code",
   "execution_count": 6,
   "metadata": {},
   "outputs": [
    {
     "name": "stdout",
     "output_type": "stream",
     "text": [
      "List of all labels count:\n"
     ]
    },
    {
     "data": {
      "text/plain": [
       "Label\n",
       "0                                59\n",
       "1.4                              99\n",
       "FE                              374\n",
       "IOfailing                         1\n",
       "IOpassMED                        46\n",
       "IOpassMEY                        97\n",
       "MED                             965\n",
       "MEY                            1108\n",
       "NC1(failing)                   1388\n",
       "NC2(z>1 nsf)                     36\n",
       "NC3(z>1, not paid off, nsf)      56\n",
       "NMEm                            696\n",
       "NMEs                             34\n",
       "Name: Name, dtype: int64"
      ]
     },
     "execution_count": 6,
     "metadata": {},
     "output_type": "execute_result"
    }
   ],
   "source": [
    "print('List of all labels count:')\n",
    "data.groupby('Label')['Name'].nunique()"
   ]
  },
  {
   "cell_type": "code",
   "execution_count": 7,
   "metadata": {},
   "outputs": [
    {
     "name": "stdout",
     "output_type": "stream",
     "text": [
      "Does row of nc1 equals # of nc1 in the data? False\n"
     ]
    }
   ],
   "source": [
    "valid = data.groupby('Label')['CUSIP'].nunique()['NC1(failing)'] == nc1.shape[0]\n",
    "print('Does row of nc1 equals # of nc1 in the data? {}'.format(valid))"
   ]
  },
  {
   "cell_type": "markdown",
   "metadata": {},
   "source": [
    "## Explore NC1"
   ]
  },
  {
   "cell_type": "code",
   "execution_count": 8,
   "metadata": {},
   "outputs": [
    {
     "name": "stdout",
     "output_type": "stream",
     "text": [
      "There are 263 of prospectus that have NC1\n",
      "On average 5.33 NC1 per prospectus that have NC1\n"
     ]
    }
   ],
   "source": [
    "count = nc1.groupby('Prospectus')['CUSIP'].nunique().count()\n",
    "print('There are ' + str(count) + ' of prospectus that have NC1')\n",
    "print(\"On average {:.2f} NC1 per prospectus that have NC1\".format(nc1.shape[0]/count))"
   ]
  },
  {
   "cell_type": "code",
   "execution_count": 9,
   "metadata": {},
   "outputs": [
    {
     "name": "stdout",
     "output_type": "stream",
     "text": [
      "Top 5 of the MTG_TRANCHE_TYP_LONG among NC1 are:\n"
     ]
    },
    {
     "data": {
      "text/plain": [
       "MTG_TRANCHE_TYP_LONG\n",
       "SUB,CSTR,NAS        474\n",
       "SUB,NAS             133\n",
       "MEZ,FLT,STEP        130\n",
       "MEZ,FLT,STEP,IRC     89\n",
       "SUB,FLT,STEP,IRC     55\n",
       "Name: CUSIP, dtype: int64"
      ]
     },
     "execution_count": 9,
     "metadata": {},
     "output_type": "execute_result"
    }
   ],
   "source": [
    "show_top = 5\n",
    "print('Top {} of the MTG_TRANCHE_TYP_LONG among NC1 are:'.format(show_top))\n",
    "nc1.groupby('MTG_TRANCHE_TYP_LONG')['CUSIP'].nunique().sort_values(ascending=False).head(show_top)"
   ]
  },
  {
   "cell_type": "code",
   "execution_count": 10,
   "metadata": {},
   "outputs": [
    {
     "name": "stdout",
     "output_type": "stream",
     "text": [
      "Is [data['Label'] != 'NC1(failing)'] valid? True\n"
     ]
    }
   ],
   "source": [
    "valid = (data.loc[data['Label'] != 'NC1(failing)'].shape[0]) == data.shape[0]-nc1.shape[0]\n",
    "print(\"Is [data['Label'] != 'NC1(failing)'] valid? {}\".format(valid))"
   ]
  },
  {
   "cell_type": "code",
   "execution_count": 11,
   "metadata": {},
   "outputs": [
    {
     "name": "stdout",
     "output_type": "stream",
     "text": [
      "Top 5 of the MTG_TRANCHE_TYP_LONG among non-NC1s are:\n"
     ]
    },
    {
     "data": {
      "text/plain": [
       "MTG_TRANCHE_TYP_LONG\n",
       "MEZ,FLT,STEP,IRC    237\n",
       "FLT,STEP,IRC        221\n",
       "FLT,STEP            186\n",
       "MEZ,FLT,STEP        172\n",
       "SEQ,AS              158\n",
       "Name: CUSIP, dtype: int64"
      ]
     },
     "execution_count": 11,
     "metadata": {},
     "output_type": "execute_result"
    }
   ],
   "source": [
    "print('Top {} of the MTG_TRANCHE_TYP_LONG among non-NC1s are:'.format(show_top))\n",
    "data.loc[data['Label'] != 'NC1(failing)'].groupby('MTG_TRANCHE_TYP_LONG')['CUSIP'].nunique().sort_values(ascending=False).head(show_top)"
   ]
  },
  {
   "cell_type": "markdown",
   "metadata": {},
   "source": [
    "In 2004, MTG_TRANCHE_TYP_LONG among NC1 and non-NC1 data set, SUB (Subordinated), CSTR(Collateral Strip Rate), and NAS(Non-Accelerated Security) seems to be the top components. <br>\n",
    "\n",
    "In 2005, MTG_TRANCHE_TYP_LONG among NC1 and non-NC1 data set, FLT(Floater), STEP(Stepped Rate Bond), and MEZ(Mezzanine) seems to be the top components. <br>\n",
    "\n",
    "For NC1 in 2004, I couldn't really see big difference between both groups.<br>\n",
    "For NC1 in 2005, there is really big difference between both groups.<br>\n",
    "\n",
    "[See here for more info about MTG_TRANCHE_TYP](https://docs.google.com/spreadsheets/d/1MOwPnTr2owqPoJNy73U7UEc3z1RvtzELOCM0ZFxBJU8/edit?usp=sharing)"
   ]
  },
  {
   "cell_type": "code",
   "execution_count": 12,
   "metadata": {},
   "outputs": [
    {
     "name": "stdout",
     "output_type": "stream",
     "text": [
      "Sum of MTG ORIG AMT among NC1 = 10417.03\n"
     ]
    }
   ],
   "source": [
    "total = nc1['MTG ORIG AMT'].sum()\n",
    "print('Sum of MTG ORIG AMT among NC1 = {:.2f}'.format(total))"
   ]
  },
  {
   "cell_type": "code",
   "execution_count": 13,
   "metadata": {},
   "outputs": [
    {
     "name": "stdout",
     "output_type": "stream",
     "text": [
      "Desciption of MTG ORIG AMT among NC1:\n"
     ]
    },
    {
     "data": {
      "text/plain": [
       "count    1402.000000\n",
       "mean        7.430118\n",
       "std         8.223513\n",
       "min         0.000100\n",
       "25%         2.160000\n",
       "50%         5.038000\n",
       "75%        10.025500\n",
       "max       151.617000\n",
       "Name: MTG ORIG AMT, dtype: float64"
      ]
     },
     "execution_count": 13,
     "metadata": {},
     "output_type": "execute_result"
    }
   ],
   "source": [
    "print('Desciption of MTG ORIG AMT among NC1:')\n",
    "nc1['MTG ORIG AMT'].describe()"
   ]
  },
  {
   "cell_type": "markdown",
   "metadata": {},
   "source": [
    "## To do\n",
    "- Look into Bloomberg (Paydown Infomation?)\n",
    "- Look why payment just suddenly stops instead of gradually decreased and stoped\n",
    "- Why is CUSIP duplicated?\n"
   ]
  },
  {
   "cell_type": "markdown",
   "metadata": {},
   "source": [
    "## Why is CUSIP duplicated?\n",
    "The folling shows that there are duplicate CUSIP in the data set"
   ]
  },
  {
   "cell_type": "code",
   "execution_count": 14,
   "metadata": {},
   "outputs": [
    {
     "data": {
      "text/plain": [
       "Label\n",
       "0                                59\n",
       "1.4                             100\n",
       "FE                              374\n",
       "IOfailing                         1\n",
       "IOpassMED                        46\n",
       "IOpassMEY                        98\n",
       "MED                             974\n",
       "MEY                            1126\n",
       "NC1(failing)                   1402\n",
       "NC2(z>1 nsf)                     39\n",
       "NC3(z>1, not paid off, nsf)      61\n",
       "NMEm                            701\n",
       "NMEs                             34\n",
       "Name: CUSIP, dtype: int64"
      ]
     },
     "execution_count": 14,
     "metadata": {},
     "output_type": "execute_result"
    }
   ],
   "source": [
    "data.groupby('Label')['CUSIP'].count()"
   ]
  },
  {
   "cell_type": "code",
   "execution_count": 15,
   "metadata": {},
   "outputs": [
    {
     "data": {
      "text/plain": [
       "Label\n",
       "0                                59\n",
       "1.4                              99\n",
       "FE                              374\n",
       "IOfailing                         1\n",
       "IOpassMED                        46\n",
       "IOpassMEY                        97\n",
       "MED                             965\n",
       "MEY                            1108\n",
       "NC1(failing)                   1388\n",
       "NC2(z>1 nsf)                     36\n",
       "NC3(z>1, not paid off, nsf)      56\n",
       "NMEm                            696\n",
       "NMEs                             34\n",
       "Name: CUSIP, dtype: int64"
      ]
     },
     "execution_count": 15,
     "metadata": {},
     "output_type": "execute_result"
    }
   ],
   "source": [
    "data.groupby('Label')['CUSIP'].nunique()"
   ]
  },
  {
   "cell_type": "markdown",
   "metadata": {},
   "source": [
    "All the Falses show two are in different sizes"
   ]
  },
  {
   "cell_type": "code",
   "execution_count": 16,
   "metadata": {},
   "outputs": [
    {
     "data": {
      "text/plain": [
       "Label\n",
       "0                               True\n",
       "1.4                            False\n",
       "FE                              True\n",
       "IOfailing                       True\n",
       "IOpassMED                       True\n",
       "IOpassMEY                      False\n",
       "MED                            False\n",
       "MEY                            False\n",
       "NC1(failing)                   False\n",
       "NC2(z>1 nsf)                   False\n",
       "NC3(z>1, not paid off, nsf)    False\n",
       "NMEm                           False\n",
       "NMEs                            True\n",
       "Name: CUSIP, dtype: bool"
      ]
     },
     "execution_count": 16,
     "metadata": {},
     "output_type": "execute_result"
    }
   ],
   "source": [
    "data.groupby('Label')['CUSIP'].count() == data.groupby('Label')['CUSIP'].nunique()"
   ]
  },
  {
   "cell_type": "markdown",
   "metadata": {},
   "source": [
    "These are what CUSIPs are duplicated."
   ]
  },
  {
   "cell_type": "code",
   "execution_count": 17,
   "metadata": {},
   "outputs": [
    {
     "data": {
      "text/plain": [
       "Label                        CUSIP    \n",
       "MEY                          05948KXX2    2\n",
       "                             949920AB8    2\n",
       "MED                          94983NAV5    2\n",
       "                             949920AJ1    2\n",
       "                             949920AN2    2\n",
       "NC1(failing)                 05948KXU8    2\n",
       "                             05948KYE3    2\n",
       "                             05948KYF0    2\n",
       "                             05948KYG8    2\n",
       "                             05948KYH6    2\n",
       "                             05948KYJ2    2\n",
       "MEY                          94983NAA1    2\n",
       "                             94983NAB9    2\n",
       "                             94983NAE3    2\n",
       "                             94983NAG8    2\n",
       "                             94983NAK9    2\n",
       "                             94983NAM5    2\n",
       "MED                          94983NAU7    2\n",
       "                             94983NAJ2    2\n",
       "                             94983NAH6    2\n",
       "NC3(z>1, not paid off, nsf)  949920AG7    2\n",
       "MEY                          05948KXQ7    2\n",
       "                             05948KXR5    2\n",
       "                             05948KXS3    2\n",
       "NC3(z>1, not paid off, nsf)  949920AD4    2\n",
       "                             949920AE2    2\n",
       "                             949920AF9    2\n",
       "                             949920AH5    2\n",
       "MED                          94983NAF0    2\n",
       "MEY                          05948KXT1    2\n",
       "                                         ..\n",
       "NC1(failing)                 35729PMP2    1\n",
       "                             35729PMQ0    1\n",
       "                             35729PMR8    1\n",
       "                             35729PMS6    1\n",
       "                             35729PMT4    1\n",
       "                             36185MAT9    1\n",
       "                             36185MAU6    1\n",
       "                             36185MAZ5    1\n",
       "                             36185MBA9    1\n",
       "                             36185MCW0    1\n",
       "                             35729PLB4    1\n",
       "                             35729PKZ2    1\n",
       "                             32027NYB1    1\n",
       "                             35729PKY5    1\n",
       "                             32027NYC9    1\n",
       "                             32027NYD7    1\n",
       "                             32027NYE5    1\n",
       "                             32113JCL7    1\n",
       "                             32113JCM5    1\n",
       "                             32113JCN3    1\n",
       "                             32113JCP8    1\n",
       "                             32113JCQ6    1\n",
       "                             32113JCR4    1\n",
       "                             32113JCS2    1\n",
       "                             32113JCT0    1\n",
       "                             35729PKD1    1\n",
       "                             35729PKE9    1\n",
       "                             35729PKF6    1\n",
       "                             35729PKX7    1\n",
       "0                            007036UZ7    1\n",
       "Length: 4959, dtype: int64"
      ]
     },
     "execution_count": 17,
     "metadata": {},
     "output_type": "execute_result"
    }
   ],
   "source": [
    "data.groupby(by=['Label','CUSIP']).size().sort_values(ascending=False)"
   ]
  },
  {
   "cell_type": "code",
   "execution_count": 32,
   "metadata": {},
   "outputs": [
    {
     "data": {
      "text/plain": [
       "CUSIP             PID    \n",
       "BCC0LJX74         FC_752     1\n",
       "12669GL58         FC_934     1\n",
       "12669GK59         FC_934     1\n",
       "12669GK67         FC_934     1\n",
       "12669GK75         FC_934     1\n",
       "12669GK83         FC_934     1\n",
       "12669GL25         FC_934     1\n",
       "12669GL33         FC_934     1\n",
       "12669GL41         FC_934     1\n",
       "12669GL66         FC_934     1\n",
       "126694UG1         FC_1723    1\n",
       "12669GL74         FC_934     1\n",
       "12669GL82         FC_934     1\n",
       "12700000          FC_440     1\n",
       "12700000000000    FC_1537    1\n",
       "1270000000000000  FC_1725    1\n",
       "144531BR0         FC_906     1\n",
       "144531BS8         FC_906     1\n",
       "126694UH9         FC_1723    1\n",
       "126694UF3         FC_1723    1\n",
       "17307GXG8         FC_1659    1\n",
       "126694TT5         FC_1723    1\n",
       "126694RZ3         FC_1518    1\n",
       "126694SA7         FC_1518    1\n",
       "126694SB5         FC_1518    1\n",
       "126694SC3         FC_1518    1\n",
       "126694TQ1         FC_1723    1\n",
       "126694TR9         FC_1723    1\n",
       "126694TS7         FC_1723    1\n",
       "126694TU2         FC_1723    1\n",
       "                            ..\n",
       "71085PDB6         FC_1447    1\n",
       "71085PDD2         FC_1665    1\n",
       "71085PBJ1         FC_398     1\n",
       "71085PDE0         FC_1665    1\n",
       "71085PDF7         FC_1665    1\n",
       "71085PDG5         FC_1665    1\n",
       "71085PDH3         FC_1665    1\n",
       "71085PDJ9         FC_1665    1\n",
       "71085PDK6         FC_1665    1\n",
       "71085PDL4         FC_1665    1\n",
       "71085PCU5         FC_1447    1\n",
       "71085PCT8         FC_1447    1\n",
       "71085PCS0         FC_1447    1\n",
       "71085PCR2         FC_1447    1\n",
       "71085PBK8         FC_398     1\n",
       "71085PBL6         FC_398     1\n",
       "71085PBM4         FC_398     1\n",
       "71085PBN2         FC_398     1\n",
       "71085PBP7         FC_398     1\n",
       "71085PBQ5         FC_398     1\n",
       "71085PBR3         FC_398     1\n",
       "71085PBS1         FC_398     1\n",
       "71085PBT9         FC_398     1\n",
       "71085PBU6         FC_398     1\n",
       "71085PCL5         FC_1447    1\n",
       "71085PCM3         FC_1447    1\n",
       "71085PCN1         FC_1447    1\n",
       "71085PCP6         FC_1447    1\n",
       "71085PCQ4         FC_1447    1\n",
       "004375CZ2         FC_382     1\n",
       "Length: 5015, dtype: int64"
      ]
     },
     "execution_count": 32,
     "metadata": {},
     "output_type": "execute_result"
    }
   ],
   "source": [
    "data.groupby(by=['Label','CUSIP','Prospectus']).size().sort_values(ascending=False)"
   ]
  },
  {
   "cell_type": "code",
   "execution_count": null,
   "metadata": {},
   "outputs": [],
   "source": []
  }
 ],
 "metadata": {
  "kernelspec": {
   "display_name": "Python 3",
   "language": "python",
   "name": "python3"
  },
  "language_info": {
   "codemirror_mode": {
    "name": "ipython",
    "version": 3
   },
   "file_extension": ".py",
   "mimetype": "text/x-python",
   "name": "python",
   "nbconvert_exporter": "python",
   "pygments_lexer": "ipython3",
   "version": "3.6.7"
  }
 },
 "nbformat": 4,
 "nbformat_minor": 2
}
