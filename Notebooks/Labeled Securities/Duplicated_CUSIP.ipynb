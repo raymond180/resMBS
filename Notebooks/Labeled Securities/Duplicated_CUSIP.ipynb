{
 "cells": [
  {
   "cell_type": "code",
   "execution_count": 1,
   "metadata": {
    "collapsed": true
   },
   "outputs": [],
   "source": [
    "import pandas as pd\n",
    "import numpy as np\n",
    "\n",
    "%matplotlib inline\n",
    "import matplotlib\n",
    "import matplotlib.pyplot as plt\n",
    "from IPython.display import set_matplotlib_formats\n",
    "set_matplotlib_formats('retina')\n",
    "\n",
    "from pathlib import Path"
   ]
  },
  {
   "cell_type": "markdown",
   "metadata": {},
   "source": [
    "## Load Data"
   ]
  },
  {
   "cell_type": "code",
   "execution_count": 2,
   "metadata": {
    "collapsed": true
   },
   "outputs": [],
   "source": [
    "root_folder = Path('../../Data/Labeled Securities/')\n",
    "\n",
    "data = pd.DataFrame([])\n",
    "for n in range(2,9):\n",
    "    file_name = 'trimmed_'+ str(2000+n) +'_v3_USE.csv'\n",
    "    df = pd.read_csv(root_folder / file_name)\n",
    "    rows = df.shape[0]\n",
    "    year = {'Year' : ([str(2000+n)]*rows)}\n",
    "    year_df = pd.DataFrame(data=year)\n",
    "    df = pd.concat([df, year_df], axis=1)\n",
    "    data = data.append(df,ignore_index=True)"
   ]
  },
  {
   "cell_type": "markdown",
   "metadata": {},
   "source": [
    "## Finding duplicatations\n"
   ]
  },
  {
   "cell_type": "markdown",
   "metadata": {},
   "source": [
    "#### Drop duplicated rows before checking duplicated CUSIP"
   ]
  },
  {
   "cell_type": "code",
   "execution_count": 3,
   "metadata": {},
   "outputs": [
    {
     "name": "stdout",
     "output_type": "stream",
     "text": [
      "Before drop: 31811\n",
      "After drop: 31648\n"
     ]
    }
   ],
   "source": [
    "rows = data.shape[0]\n",
    "print('Before drop: {}'.format(rows))\n",
    "data = data.drop_duplicates()\n",
    "rows = data.shape[0]\n",
    "print('After drop: {}'.format(rows))"
   ]
  },
  {
   "cell_type": "code",
   "execution_count": 4,
   "metadata": {
    "scrolled": true
   },
   "outputs": [
    {
     "data": {
      "text/plain": [
       "CUSIP\n",
       "1266712F2    4\n",
       "126671Y75    4\n",
       "126671Y91    4\n",
       "dtype: int64"
      ]
     },
     "execution_count": 4,
     "metadata": {},
     "output_type": "execute_result"
    }
   ],
   "source": [
    "data.groupby(['CUSIP']).size().sort_values(ascending=False).head(3)"
   ]
  },
  {
   "cell_type": "code",
   "execution_count": 5,
   "metadata": {},
   "outputs": [
    {
     "name": "stdout",
     "output_type": "stream",
     "text": [
      "742 of CUSIP are duplicated which is 2.34% of dataset\n"
     ]
    }
   ],
   "source": [
    "count = ((data.groupby(['CUSIP']).size() > 1).sum())\n",
    "percentage = count/rows*100\n",
    "print(\"{} of CUSIP are duplicated which is {:.2f}% of dataset\".format(count,percentage))"
   ]
  },
  {
   "cell_type": "code",
   "execution_count": 6,
   "metadata": {},
   "outputs": [
    {
     "data": {
      "text/plain": [
       "PID      Prospectus                              Class  Name             CUSIP      Year\n",
       "FC_2478  MASTR_1274601_0000950136-03-003206.txt  1A1    MALT 2003-9 1A1  576434KU7  2003    2\n",
       "                                                 4A1    MALT 2003-9 4A1  576434KX1  2003    2\n",
       "                                                 B2     MALT 2003-9 B2   576434LP7  2003    2\n",
       "dtype: int64"
      ]
     },
     "execution_count": 6,
     "metadata": {},
     "output_type": "execute_result"
    }
   ],
   "source": [
    "data.groupby(by=['PID','Prospectus','Class','Name','CUSIP','Year']).size().sort_values(ascending=False).head(3)"
   ]
  },
  {
   "cell_type": "code",
   "execution_count": 7,
   "metadata": {
    "scrolled": false
   },
   "outputs": [
    {
     "name": "stdout",
     "output_type": "stream",
     "text": [
      "16 of ['PID','Prospectus','Class','Name','CUSIP','Year'] are duplicated which is 0.05% of dataset\n"
     ]
    }
   ],
   "source": [
    "count = (data.groupby(by=['PID','Prospectus','Class','Name','CUSIP','Year']).size() > 1).sum()\n",
    "percentage = count/rows*100\n",
    "print(\"{} of ['PID','Prospectus','Class','Name','CUSIP','Year'] are duplicated which is {:.2f}% of dataset\".format(count,percentage))"
   ]
  },
  {
   "cell_type": "code",
   "execution_count": 8,
   "metadata": {},
   "outputs": [
    {
     "name": "stdout",
     "output_type": "stream",
     "text": [
      "16 of ['PID','Class','CUSIP'] are duplicated which is 0.05% of dataset\n"
     ]
    }
   ],
   "source": [
    "count = (data.groupby(by=['PID','Class','CUSIP']).size() > 1).sum()\n",
    "percentage = count/rows*100\n",
    "print(\"{} of ['PID','Class','CUSIP'] are duplicated which is {:.2f}% of dataset\".format(count,percentage))"
   ]
  },
  {
   "cell_type": "code",
   "execution_count": 9,
   "metadata": {},
   "outputs": [
    {
     "name": "stdout",
     "output_type": "stream",
     "text": [
      "20 of ['PID','CUSIP'] are duplicated which is 0.06% of dataset\n"
     ]
    }
   ],
   "source": [
    "count = (data.groupby(by=['PID','CUSIP']).size() > 1).sum()\n",
    "percentage = count/rows*100\n",
    "print(\"{} of ['PID','CUSIP'] are duplicated which is {:.2f}% of dataset\".format(count,percentage))"
   ]
  },
  {
   "cell_type": "markdown",
   "metadata": {},
   "source": [
    "### Some examples"
   ]
  },
  {
   "cell_type": "code",
   "execution_count": 10,
   "metadata": {},
   "outputs": [
    {
     "data": {
      "text/plain": [
       "PID      CUSIP    \n",
       "FC_2478  576434LP7    True\n",
       "FC_1509  576434AH7    True\n",
       "FC_2478  576434KV5    True\n",
       "FC_1509  576434AN4    True\n",
       "         576434AL8    True\n",
       "dtype: bool"
      ]
     },
     "execution_count": 10,
     "metadata": {},
     "output_type": "execute_result"
    }
   ],
   "source": [
    "(data.groupby(by=['PID','CUSIP']).size() > 1).sort_values(ascending=False).head(5)"
   ]
  },
  {
   "cell_type": "code",
   "execution_count": 11,
   "metadata": {},
   "outputs": [
    {
     "data": {
      "text/html": [
       "<div>\n",
       "<style>\n",
       "    .dataframe thead tr:only-child th {\n",
       "        text-align: right;\n",
       "    }\n",
       "\n",
       "    .dataframe thead th {\n",
       "        text-align: left;\n",
       "    }\n",
       "\n",
       "    .dataframe tbody tr th {\n",
       "        vertical-align: top;\n",
       "    }\n",
       "</style>\n",
       "<table border=\"1\" class=\"dataframe\">\n",
       "  <thead>\n",
       "    <tr style=\"text-align: right;\">\n",
       "      <th></th>\n",
       "      <th>PID</th>\n",
       "      <th>Prospectus</th>\n",
       "      <th>Class</th>\n",
       "      <th>norm_class</th>\n",
       "      <th>Name</th>\n",
       "      <th>Current_Balance</th>\n",
       "      <th>Zero-Balance Payment Period Number</th>\n",
       "      <th>Sum Principle Paid</th>\n",
       "      <th>MTG ORIG AMT</th>\n",
       "      <th>Maturity</th>\n",
       "      <th>...</th>\n",
       "      <th>Moody Rating</th>\n",
       "      <th>Initial Moody Rating</th>\n",
       "      <th>Bloomberg Composite</th>\n",
       "      <th>HCLB</th>\n",
       "      <th>MTG INT SHRTFLL</th>\n",
       "      <th>HIST INTRST SHRTFLL</th>\n",
       "      <th>Label</th>\n",
       "      <th>norm_label</th>\n",
       "      <th>USE</th>\n",
       "      <th>Year</th>\n",
       "    </tr>\n",
       "  </thead>\n",
       "  <tbody>\n",
       "    <tr>\n",
       "      <th>4929</th>\n",
       "      <td>FC_2478</td>\n",
       "      <td>MASTR_1274601_0000950136-03-003206.txt</td>\n",
       "      <td>B2</td>\n",
       "      <td>B</td>\n",
       "      <td>MALT 2003-9 B2</td>\n",
       "      <td>0.3853</td>\n",
       "      <td>paying</td>\n",
       "      <td>2.6747</td>\n",
       "      <td>3.06</td>\n",
       "      <td>1/25/2034</td>\n",
       "      <td>...</td>\n",
       "      <td>NaN</td>\n",
       "      <td>NaN</td>\n",
       "      <td>CC+</td>\n",
       "      <td>0.0</td>\n",
       "      <td>0.0</td>\n",
       "      <td>-4153\\4153\\0</td>\n",
       "      <td>MEY</td>\n",
       "      <td>ME</td>\n",
       "      <td>0</td>\n",
       "      <td>2003</td>\n",
       "    </tr>\n",
       "    <tr>\n",
       "      <th>4951</th>\n",
       "      <td>FC_2478</td>\n",
       "      <td>MASTR_1274601_0000950136-03-003206.txt</td>\n",
       "      <td>B2</td>\n",
       "      <td>B</td>\n",
       "      <td>MALT 2003-9 B2</td>\n",
       "      <td>0.3671</td>\n",
       "      <td>paying</td>\n",
       "      <td>2.7646</td>\n",
       "      <td>3.06</td>\n",
       "      <td>1/25/2034</td>\n",
       "      <td>...</td>\n",
       "      <td>NaN</td>\n",
       "      <td>NaN</td>\n",
       "      <td>CC+</td>\n",
       "      <td>0.0</td>\n",
       "      <td>0.0</td>\n",
       "      <td>-4153\\4153\\445.13</td>\n",
       "      <td>NMEm</td>\n",
       "      <td>NME</td>\n",
       "      <td>0</td>\n",
       "      <td>2003</td>\n",
       "    </tr>\n",
       "  </tbody>\n",
       "</table>\n",
       "<p>2 rows × 22 columns</p>\n",
       "</div>"
      ],
      "text/plain": [
       "          PID                              Prospectus Class norm_class  \\\n",
       "4929  FC_2478  MASTR_1274601_0000950136-03-003206.txt    B2          B   \n",
       "4951  FC_2478  MASTR_1274601_0000950136-03-003206.txt    B2          B   \n",
       "\n",
       "                Name  Current_Balance Zero-Balance Payment Period Number  \\\n",
       "4929  MALT 2003-9 B2           0.3853                             paying   \n",
       "4951  MALT 2003-9 B2           0.3671                             paying   \n",
       "\n",
       "      Sum Principle Paid  MTG ORIG AMT   Maturity  ...  Moody Rating  \\\n",
       "4929              2.6747          3.06  1/25/2034  ...           NaN   \n",
       "4951              2.7646          3.06  1/25/2034  ...           NaN   \n",
       "\n",
       "     Initial Moody Rating Bloomberg Composite HCLB MTG INT SHRTFLL  \\\n",
       "4929                  NaN                 CC+  0.0             0.0   \n",
       "4951                  NaN                 CC+  0.0             0.0   \n",
       "\n",
       "      HIST INTRST SHRTFLL  Label norm_label USE  Year  \n",
       "4929         -4153\\4153\\0    MEY         ME   0  2003  \n",
       "4951    -4153\\4153\\445.13   NMEm        NME   0  2003  \n",
       "\n",
       "[2 rows x 22 columns]"
      ]
     },
     "execution_count": 11,
     "metadata": {},
     "output_type": "execute_result"
    }
   ],
   "source": [
    "data.loc[(data['PID'] == 'FC_2478') & (data['CUSIP'] == '576434LP7')]"
   ]
  },
  {
   "cell_type": "code",
   "execution_count": 12,
   "metadata": {},
   "outputs": [
    {
     "data": {
      "text/html": [
       "<div>\n",
       "<style>\n",
       "    .dataframe thead tr:only-child th {\n",
       "        text-align: right;\n",
       "    }\n",
       "\n",
       "    .dataframe thead th {\n",
       "        text-align: left;\n",
       "    }\n",
       "\n",
       "    .dataframe tbody tr th {\n",
       "        vertical-align: top;\n",
       "    }\n",
       "</style>\n",
       "<table border=\"1\" class=\"dataframe\">\n",
       "  <thead>\n",
       "    <tr style=\"text-align: right;\">\n",
       "      <th></th>\n",
       "      <th>PID</th>\n",
       "      <th>Prospectus</th>\n",
       "      <th>Class</th>\n",
       "      <th>norm_class</th>\n",
       "      <th>Name</th>\n",
       "      <th>Current_Balance</th>\n",
       "      <th>Zero-Balance Payment Period Number</th>\n",
       "      <th>Sum Principle Paid</th>\n",
       "      <th>MTG ORIG AMT</th>\n",
       "      <th>Maturity</th>\n",
       "      <th>...</th>\n",
       "      <th>Moody Rating</th>\n",
       "      <th>Initial Moody Rating</th>\n",
       "      <th>Bloomberg Composite</th>\n",
       "      <th>HCLB</th>\n",
       "      <th>MTG INT SHRTFLL</th>\n",
       "      <th>HIST INTRST SHRTFLL</th>\n",
       "      <th>Label</th>\n",
       "      <th>norm_label</th>\n",
       "      <th>USE</th>\n",
       "      <th>Year</th>\n",
       "    </tr>\n",
       "  </thead>\n",
       "  <tbody>\n",
       "    <tr>\n",
       "      <th>1808</th>\n",
       "      <td>FC_1509</td>\n",
       "      <td>MASTR_1179092_0000950136-02-002215.txt</td>\n",
       "      <td>AX</td>\n",
       "      <td>A</td>\n",
       "      <td>MALT 2002-1 AX</td>\n",
       "      <td>0.2771</td>\n",
       "      <td>paying</td>\n",
       "      <td>0.0</td>\n",
       "      <td>16.9397</td>\n",
       "      <td>2032-07-25</td>\n",
       "      <td>...</td>\n",
       "      <td>NaN</td>\n",
       "      <td>NaN</td>\n",
       "      <td>NR</td>\n",
       "      <td>0.0</td>\n",
       "      <td>0.0</td>\n",
       "      <td>0\\0\\0</td>\n",
       "      <td>IOpassMEY</td>\n",
       "      <td>ME</td>\n",
       "      <td>0</td>\n",
       "      <td>2002</td>\n",
       "    </tr>\n",
       "    <tr>\n",
       "      <th>1831</th>\n",
       "      <td>FC_1509</td>\n",
       "      <td>MASTR_1179092_0000950136-02-002215.txt</td>\n",
       "      <td>AX</td>\n",
       "      <td>A</td>\n",
       "      <td>MALT 2002-1 AX</td>\n",
       "      <td>0.2802</td>\n",
       "      <td>paying</td>\n",
       "      <td>0.0</td>\n",
       "      <td>16.9397</td>\n",
       "      <td>2032-07-25</td>\n",
       "      <td>...</td>\n",
       "      <td>NaN</td>\n",
       "      <td>NaN</td>\n",
       "      <td>NR</td>\n",
       "      <td>0.0</td>\n",
       "      <td>0.0</td>\n",
       "      <td>0\\0\\0</td>\n",
       "      <td>IOpassMEY</td>\n",
       "      <td>ME</td>\n",
       "      <td>0</td>\n",
       "      <td>2002</td>\n",
       "    </tr>\n",
       "  </tbody>\n",
       "</table>\n",
       "<p>2 rows × 22 columns</p>\n",
       "</div>"
      ],
      "text/plain": [
       "          PID                              Prospectus Class norm_class  \\\n",
       "1808  FC_1509  MASTR_1179092_0000950136-02-002215.txt    AX          A   \n",
       "1831  FC_1509  MASTR_1179092_0000950136-02-002215.txt    AX          A   \n",
       "\n",
       "                Name  Current_Balance Zero-Balance Payment Period Number  \\\n",
       "1808  MALT 2002-1 AX           0.2771                             paying   \n",
       "1831  MALT 2002-1 AX           0.2802                             paying   \n",
       "\n",
       "      Sum Principle Paid  MTG ORIG AMT    Maturity  ...  Moody Rating  \\\n",
       "1808                 0.0       16.9397  2032-07-25  ...           NaN   \n",
       "1831                 0.0       16.9397  2032-07-25  ...           NaN   \n",
       "\n",
       "     Initial Moody Rating Bloomberg Composite HCLB MTG INT SHRTFLL  \\\n",
       "1808                  NaN                  NR  0.0             0.0   \n",
       "1831                  NaN                  NR  0.0             0.0   \n",
       "\n",
       "      HIST INTRST SHRTFLL      Label norm_label USE  Year  \n",
       "1808                0\\0\\0  IOpassMEY         ME   0  2002  \n",
       "1831                0\\0\\0  IOpassMEY         ME   0  2002  \n",
       "\n",
       "[2 rows x 22 columns]"
      ]
     },
     "execution_count": 12,
     "metadata": {},
     "output_type": "execute_result"
    }
   ],
   "source": [
    "data.loc[(data['PID'] == 'FC_1509') & (data['CUSIP'] == '576434AH7')]"
   ]
  },
  {
   "cell_type": "code",
   "execution_count": null,
   "metadata": {
    "collapsed": true
   },
   "outputs": [],
   "source": []
  }
 ],
 "metadata": {
  "kernelspec": {
   "display_name": "Python 3",
   "language": "python",
   "name": "python3"
  },
  "language_info": {
   "codemirror_mode": {
    "name": "ipython",
    "version": 3
   },
   "file_extension": ".py",
   "mimetype": "text/x-python",
   "name": "python",
   "nbconvert_exporter": "python",
   "pygments_lexer": "ipython3",
   "version": "3.6.1"
  }
 },
 "nbformat": 4,
 "nbformat_minor": 2
}
