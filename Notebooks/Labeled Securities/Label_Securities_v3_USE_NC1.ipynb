{
 "cells": [
  {
   "cell_type": "code",
   "execution_count": 1,
   "metadata": {},
   "outputs": [],
   "source": [
    "import pandas as pd\n",
    "import numpy as np\n",
    "\n",
    "import matplotlib.pyplot as plt\n",
    "from IPython.display import set_matplotlib_formats\n",
    "set_matplotlib_formats('retina')\n",
    "\n",
    "import datetime"
   ]
  },
  {
   "cell_type": "code",
   "execution_count": 2,
   "metadata": {},
   "outputs": [],
   "source": [
    "nc1 = pd.read_csv('get_shortfall_sorted_firstTime.csv')\n",
    "nc1 = nc1.drop(nc1[nc1['Data'] == '#N/A Limit: Monthly'].index)\n",
    "nc1 = nc1.dropna()\n",
    "nc1['Year'] = nc1['NAME'].apply(lambda x: x[x.find('-')-4:x.find('-'):])"
   ]
  },
  {
   "cell_type": "code",
   "execution_count": 3,
   "metadata": {},
   "outputs": [],
   "source": [
    "def make_dict(x):\n",
    "    d = {}\n",
    "    for n in range(0,len(x)-1,2):\n",
    "        if (x[n+1] == '#N/A N/A'): x[n+1]= np.nan\n",
    "        else : x[n+1] = float(x[n+1])\n",
    "        date = str(x[n]).split('/')\n",
    "        d[datetime.date(int(date[2]),int(date[0]),int(date[1]))] = x[n+1]\n",
    "    return d\n",
    "make_dict_vectorize = np.vectorize(make_dict)"
   ]
  },
  {
   "cell_type": "code",
   "execution_count": 4,
   "metadata": {},
   "outputs": [],
   "source": [
    "nc1['Data_dict'] = make_dict_vectorize(nc1['Data'].str.split(','))"
   ]
  },
  {
   "cell_type": "code",
   "execution_count": 5,
   "metadata": {},
   "outputs": [],
   "source": [
    "#plt.plot(list(nc1['Data_dict'][1].keys()),list(nc1['Data_dict'][1].values()))"
   ]
  },
  {
   "cell_type": "code",
   "execution_count": 6,
   "metadata": {},
   "outputs": [],
   "source": [
    "def make_dict_noNaN(x):\n",
    "    d = {}\n",
    "    for n in range(0,len(x)-1,2): \n",
    "        if (x[n+1] == '#N/A N/A'): pass\n",
    "        else :\n",
    "            x[n+1] = float(x[n+1])\n",
    "            date = str(x[n]).split('/')\n",
    "            d[datetime.date(int(date[2]),int(date[0]),int(date[1]))] = x[n+1]\n",
    "    if (d):return d\n",
    "    else : return np.nan\n",
    "make_dict_noNaN_vectorize = np.vectorize(make_dict_noNaN)"
   ]
  },
  {
   "cell_type": "code",
   "execution_count": 7,
   "metadata": {},
   "outputs": [],
   "source": [
    "nc1['Data_dict_noNaN'] = make_dict_noNaN_vectorize(nc1['Data'].str.split(','))"
   ]
  },
  {
   "cell_type": "code",
   "execution_count": 8,
   "metadata": {},
   "outputs": [],
   "source": [
    "nc1 = nc1.dropna()\n",
    "nc1['Data_dict_plot'] = nc1['Data_dict_noNaN'].apply(lambda x: (list(x.keys()),list(x.values())))"
   ]
  },
  {
   "cell_type": "code",
   "execution_count": 9,
   "metadata": {},
   "outputs": [
    {
     "data": {
      "text/plain": [
       "array(['2005', '2006', '2007', '2004', '2003'], dtype=object)"
      ]
     },
     "execution_count": 9,
     "metadata": {},
     "output_type": "execute_result"
    }
   ],
   "source": [
    "nc1['Year'].unique()"
   ]
  },
  {
   "cell_type": "code",
   "execution_count": 10,
   "metadata": {},
   "outputs": [
    {
     "name": "stdout",
     "output_type": "stream",
     "text": [
      "[datetime.date(2005, 9, 25) datetime.date(2005, 9, 25)\n",
      " datetime.date(2005, 9, 25) ... datetime.date(2006, 3, 25)\n",
      " datetime.date(2006, 5, 25) datetime.date(2006, 5, 25)]\n"
     ]
    }
   ],
   "source": [
    "def earliest(x):\n",
    "    return x[0][-1]\n",
    "earliest_vectorize = np.vectorize(earliest)\n",
    "early = earliest_vectorize(nc1['Data_dict_plot'])\n",
    "print(early)"
   ]
  },
  {
   "cell_type": "code",
   "execution_count": 11,
   "metadata": {},
   "outputs": [],
   "source": [
    "nc1.index = np.arange(1,nc1.shape[0]+1)\n",
    "nc1 = nc1.dropna()"
   ]
  },
  {
   "cell_type": "code",
   "execution_count": 14,
   "metadata": {},
   "outputs": [
    {
     "name": "stdout",
     "output_type": "stream",
     "text": [
      "Successfully created the directory D:\\resMBS\\NC1_images\\2006to2012_cumSum \n"
     ]
    },
    {
     "ename": "IndexError",
     "evalue": "single positional indexer is out-of-bounds",
     "output_type": "error",
     "traceback": [
      "\u001b[1;31m---------------------------------------------------------------------------\u001b[0m",
      "\u001b[1;31mIndexError\u001b[0m                                Traceback (most recent call last)",
      "\u001b[1;32m<ipython-input-14-78442176fccd>\u001b[0m in \u001b[0;36m<module>\u001b[1;34m\u001b[0m\n\u001b[0;32m     27\u001b[0m \u001b[1;31m#for n in range(1,10):\u001b[0m\u001b[1;33m\u001b[0m\u001b[1;33m\u001b[0m\u001b[1;33m\u001b[0m\u001b[0m\n\u001b[0;32m     28\u001b[0m \u001b[1;32mfor\u001b[0m \u001b[0mn\u001b[0m \u001b[1;32min\u001b[0m \u001b[0mrange\u001b[0m\u001b[1;33m(\u001b[0m\u001b[1;36m1\u001b[0m\u001b[1;33m,\u001b[0m\u001b[0mnc1\u001b[0m\u001b[1;33m.\u001b[0m\u001b[0mshape\u001b[0m\u001b[1;33m[\u001b[0m\u001b[1;36m0\u001b[0m\u001b[1;33m]\u001b[0m\u001b[1;33m+\u001b[0m\u001b[1;36m1\u001b[0m\u001b[1;33m)\u001b[0m\u001b[1;33m:\u001b[0m\u001b[1;33m\u001b[0m\u001b[1;33m\u001b[0m\u001b[0m\n\u001b[1;32m---> 29\u001b[1;33m     \u001b[0mnc1_n\u001b[0m \u001b[1;33m=\u001b[0m \u001b[0mnc1\u001b[0m\u001b[1;33m.\u001b[0m\u001b[0miloc\u001b[0m\u001b[1;33m[\u001b[0m\u001b[0mn\u001b[0m\u001b[1;33m]\u001b[0m\u001b[1;33m\u001b[0m\u001b[1;33m\u001b[0m\u001b[0m\n\u001b[0m\u001b[0;32m     30\u001b[0m     \u001b[0mnc1_n_Data_dict_plot\u001b[0m \u001b[1;33m=\u001b[0m \u001b[0mnc1_n\u001b[0m\u001b[1;33m[\u001b[0m\u001b[1;34m'Data_dict_plot'\u001b[0m\u001b[1;33m]\u001b[0m\u001b[1;33m\u001b[0m\u001b[1;33m\u001b[0m\u001b[0m\n\u001b[0;32m     31\u001b[0m     \u001b[0mfig\u001b[0m \u001b[1;33m=\u001b[0m \u001b[0mplt\u001b[0m\u001b[1;33m.\u001b[0m\u001b[0mfigure\u001b[0m\u001b[1;33m(\u001b[0m\u001b[1;33m)\u001b[0m\u001b[1;33m\u001b[0m\u001b[1;33m\u001b[0m\u001b[0m\n",
      "\u001b[1;32m~\\Anaconda3\\lib\\site-packages\\pandas\\core\\indexing.py\u001b[0m in \u001b[0;36m__getitem__\u001b[1;34m(self, key)\u001b[0m\n\u001b[0;32m   1476\u001b[0m \u001b[1;33m\u001b[0m\u001b[0m\n\u001b[0;32m   1477\u001b[0m             \u001b[0mmaybe_callable\u001b[0m \u001b[1;33m=\u001b[0m \u001b[0mcom\u001b[0m\u001b[1;33m.\u001b[0m\u001b[0m_apply_if_callable\u001b[0m\u001b[1;33m(\u001b[0m\u001b[0mkey\u001b[0m\u001b[1;33m,\u001b[0m \u001b[0mself\u001b[0m\u001b[1;33m.\u001b[0m\u001b[0mobj\u001b[0m\u001b[1;33m)\u001b[0m\u001b[1;33m\u001b[0m\u001b[1;33m\u001b[0m\u001b[0m\n\u001b[1;32m-> 1478\u001b[1;33m             \u001b[1;32mreturn\u001b[0m \u001b[0mself\u001b[0m\u001b[1;33m.\u001b[0m\u001b[0m_getitem_axis\u001b[0m\u001b[1;33m(\u001b[0m\u001b[0mmaybe_callable\u001b[0m\u001b[1;33m,\u001b[0m \u001b[0maxis\u001b[0m\u001b[1;33m=\u001b[0m\u001b[0maxis\u001b[0m\u001b[1;33m)\u001b[0m\u001b[1;33m\u001b[0m\u001b[1;33m\u001b[0m\u001b[0m\n\u001b[0m\u001b[0;32m   1479\u001b[0m \u001b[1;33m\u001b[0m\u001b[0m\n\u001b[0;32m   1480\u001b[0m     \u001b[1;32mdef\u001b[0m \u001b[0m_is_scalar_access\u001b[0m\u001b[1;33m(\u001b[0m\u001b[0mself\u001b[0m\u001b[1;33m,\u001b[0m \u001b[0mkey\u001b[0m\u001b[1;33m)\u001b[0m\u001b[1;33m:\u001b[0m\u001b[1;33m\u001b[0m\u001b[1;33m\u001b[0m\u001b[0m\n",
      "\u001b[1;32m~\\Anaconda3\\lib\\site-packages\\pandas\\core\\indexing.py\u001b[0m in \u001b[0;36m_getitem_axis\u001b[1;34m(self, key, axis)\u001b[0m\n\u001b[0;32m   2100\u001b[0m \u001b[1;33m\u001b[0m\u001b[0m\n\u001b[0;32m   2101\u001b[0m             \u001b[1;31m# validate the location\u001b[0m\u001b[1;33m\u001b[0m\u001b[1;33m\u001b[0m\u001b[1;33m\u001b[0m\u001b[0m\n\u001b[1;32m-> 2102\u001b[1;33m             \u001b[0mself\u001b[0m\u001b[1;33m.\u001b[0m\u001b[0m_validate_integer\u001b[0m\u001b[1;33m(\u001b[0m\u001b[0mkey\u001b[0m\u001b[1;33m,\u001b[0m \u001b[0maxis\u001b[0m\u001b[1;33m)\u001b[0m\u001b[1;33m\u001b[0m\u001b[1;33m\u001b[0m\u001b[0m\n\u001b[0m\u001b[0;32m   2103\u001b[0m \u001b[1;33m\u001b[0m\u001b[0m\n\u001b[0;32m   2104\u001b[0m             \u001b[1;32mreturn\u001b[0m \u001b[0mself\u001b[0m\u001b[1;33m.\u001b[0m\u001b[0m_get_loc\u001b[0m\u001b[1;33m(\u001b[0m\u001b[0mkey\u001b[0m\u001b[1;33m,\u001b[0m \u001b[0maxis\u001b[0m\u001b[1;33m=\u001b[0m\u001b[0maxis\u001b[0m\u001b[1;33m)\u001b[0m\u001b[1;33m\u001b[0m\u001b[1;33m\u001b[0m\u001b[0m\n",
      "\u001b[1;32m~\\Anaconda3\\lib\\site-packages\\pandas\\core\\indexing.py\u001b[0m in \u001b[0;36m_validate_integer\u001b[1;34m(self, key, axis)\u001b[0m\n\u001b[0;32m   2007\u001b[0m         \u001b[0ml\u001b[0m \u001b[1;33m=\u001b[0m \u001b[0mlen\u001b[0m\u001b[1;33m(\u001b[0m\u001b[0max\u001b[0m\u001b[1;33m)\u001b[0m\u001b[1;33m\u001b[0m\u001b[1;33m\u001b[0m\u001b[0m\n\u001b[0;32m   2008\u001b[0m         \u001b[1;32mif\u001b[0m \u001b[0mkey\u001b[0m \u001b[1;33m>=\u001b[0m \u001b[0ml\u001b[0m \u001b[1;32mor\u001b[0m \u001b[0mkey\u001b[0m \u001b[1;33m<\u001b[0m \u001b[1;33m-\u001b[0m\u001b[0ml\u001b[0m\u001b[1;33m:\u001b[0m\u001b[1;33m\u001b[0m\u001b[1;33m\u001b[0m\u001b[0m\n\u001b[1;32m-> 2009\u001b[1;33m             \u001b[1;32mraise\u001b[0m \u001b[0mIndexError\u001b[0m\u001b[1;33m(\u001b[0m\u001b[1;34m\"single positional indexer is out-of-bounds\"\u001b[0m\u001b[1;33m)\u001b[0m\u001b[1;33m\u001b[0m\u001b[1;33m\u001b[0m\u001b[0m\n\u001b[0m\u001b[0;32m   2010\u001b[0m \u001b[1;33m\u001b[0m\u001b[0m\n\u001b[0;32m   2011\u001b[0m     \u001b[1;32mdef\u001b[0m \u001b[0m_getitem_tuple\u001b[0m\u001b[1;33m(\u001b[0m\u001b[0mself\u001b[0m\u001b[1;33m,\u001b[0m \u001b[0mtup\u001b[0m\u001b[1;33m)\u001b[0m\u001b[1;33m:\u001b[0m\u001b[1;33m\u001b[0m\u001b[1;33m\u001b[0m\u001b[0m\n",
      "\u001b[1;31mIndexError\u001b[0m: single positional indexer is out-of-bounds"
     ]
    }
   ],
   "source": [
    "from pathlib import Path\n",
    "import os\n",
    "\n",
    "# Reset index and drop nan\n",
    "nc1.index = np.arange(1,nc1.shape[0]+1)\n",
    "nc1 = nc1.dropna()\n",
    "\n",
    "# year parameter\n",
    "year_from = \"2006\"\n",
    "year_end = \"2012\"\n",
    "\n",
    "# directory parameter\n",
    "#data_folder = Path(r'C:\\Users\\cchen07\\Desktop\\NC1_images') \n",
    "#sub_folder = data_folder / (year_from+\"to\"+year_end)\n",
    "data_folder = Path(\"D:/resMBS/NC1_images\")\n",
    "suffix = 'cumSum'\n",
    "if suffix : sub_folder = data_folder / (year_from+\"to\"+year_end+\"_\"+suffix)\n",
    "else : sub_folder = data_folder / (year_from+\"to\"+year_end)\n",
    "\n",
    "# create directory\n",
    "try:\n",
    "    os.mkdir(sub_folder)\n",
    "except OSError:  \n",
    "    print (\"Creation of the directory %s failed\" % sub_folder)\n",
    "else:  \n",
    "    print (\"Successfully created the directory %s \" % sub_folder)\n",
    "\n",
    "#for n in range(1,10):\n",
    "for n in range(0,nc1.shape[0]):\n",
    "    nc1_n = nc1.iloc[n]\n",
    "    nc1_n_Data_dict_plot = nc1_n['Data_dict_plot']\n",
    "    fig = plt.figure()\n",
    "    plt.xlim(np.datetime64(year_from), np.datetime64(year_end))\n",
    "    \n",
    "    #plt.plot(nc1_n_Data_dict_plot[0],nc1_n_Data_dict_plot[1],marker='o')\n",
    "    \n",
    "    values = pd.Series(nc1_n_Data_dict_plot[1]).iloc[::-1]\n",
    "    cumsum = values.cumsum()\n",
    "    dates = pd.Series(nc1_n_Data_dict_plot[0]).iloc[::-1]\n",
    "    plt.plot(dates,values,'o',dates,cumsum,'^')\n",
    "    \n",
    "    plt.xlabel('Time')\n",
    "    plt.ylabel('Short Fall Amount')\n",
    "    name = str(nc1_n['NAME'])+' - '+ str(nc1_n['SHORTFALL_TYPE'])\n",
    "    plt.title(name)\n",
    "    file_name = sub_folder / (name+\".png\")\n",
    "    plt.savefig(file_name,dpi=300,orientation='landscape',format='png')\n",
    "    plt.close(fig)"
   ]
  },
  {
   "cell_type": "code",
   "execution_count": null,
   "metadata": {},
   "outputs": [],
   "source": [
    "#a.apply(lambda x: plt.plot)"
   ]
  },
  {
   "cell_type": "code",
   "execution_count": null,
   "metadata": {},
   "outputs": [],
   "source": [
    "\"\"\"\"\n",
    "def export_pic(x):\n",
    "    plt.plot(x)\n",
    "    return plt.savefig('image/a.png')\n",
    "export_pic_vectorize = np.vectorize(export_pic)\n",
    "\n",
    "export_pic_vectorize(nc1['Data_dict_plot'])\n",
    "\"\"\"\""
   ]
  },
  {
   "cell_type": "code",
   "execution_count": null,
   "metadata": {},
   "outputs": [],
   "source": []
  }
 ],
 "metadata": {
  "kernelspec": {
   "display_name": "Python 3",
   "language": "python",
   "name": "python3"
  },
  "language_info": {
   "codemirror_mode": {
    "name": "ipython",
    "version": 3
   },
   "file_extension": ".py",
   "mimetype": "text/x-python",
   "name": "python",
   "nbconvert_exporter": "python",
   "pygments_lexer": "ipython3",
   "version": "3.6.7"
  }
 },
 "nbformat": 4,
 "nbformat_minor": 2
}
