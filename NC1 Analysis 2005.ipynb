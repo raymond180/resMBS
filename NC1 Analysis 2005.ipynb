{
 "cells": [
  {
   "cell_type": "code",
   "execution_count": 1,
   "metadata": {},
   "outputs": [],
   "source": [
    "import pandas as pd\n",
    "import numpy as np"
   ]
  },
  {
   "cell_type": "markdown",
   "metadata": {},
   "source": [
    "This notebook shows some basics stats about securities labeled as NC1"
   ]
  },
  {
   "cell_type": "markdown",
   "metadata": {},
   "source": [
    "## Load Data"
   ]
  },
  {
   "cell_type": "code",
   "execution_count": 2,
   "metadata": {},
   "outputs": [],
   "source": [
    "data = pd.read_csv('trimmed_2005_v2.csv')"
   ]
  },
  {
   "cell_type": "code",
   "execution_count": 3,
   "metadata": {},
   "outputs": [],
   "source": [
    "#Get all rows with NC1\n",
    "nc1 = data.loc[data['Label'] == 'NC1(failing)']"
   ]
  },
  {
   "cell_type": "markdown",
   "metadata": {},
   "source": [
    "## Data Validation"
   ]
  },
  {
   "cell_type": "code",
   "execution_count": 4,
   "metadata": {},
   "outputs": [
    {
     "name": "stdout",
     "output_type": "stream",
     "text": [
      "we have 5015 rows of data\n",
      "we have 1402 rows of NC1\n",
      "percentage: 27.96%\n"
     ]
    }
   ],
   "source": [
    "print('we have {} rows of data'.format(data.shape[0]))\n",
    "print('we have {} rows of NC1'.format(nc1.shape[0]))\n",
    "print('percentage: {:.2f}%'.format(nc1.shape[0]/data.shape[0]*100))"
   ]
  },
  {
   "cell_type": "code",
   "execution_count": 5,
   "metadata": {},
   "outputs": [
    {
     "name": "stdout",
     "output_type": "stream",
     "text": [
      "List of all labels count:\n"
     ]
    },
    {
     "data": {
      "text/plain": [
       "Label\n",
       "0                                59\n",
       "1.4                              99\n",
       "FE                              374\n",
       "IOfailing                         1\n",
       "IOpassMED                        46\n",
       "IOpassMEY                        97\n",
       "MED                             965\n",
       "MEY                            1108\n",
       "NC1(failing)                   1388\n",
       "NC2(z>1 nsf)                     36\n",
       "NC3(z>1, not paid off, nsf)      56\n",
       "NMEm                            696\n",
       "NMEs                             34\n",
       "Name: CUSIP, dtype: int64"
      ]
     },
     "execution_count": 5,
     "metadata": {},
     "output_type": "execute_result"
    }
   ],
   "source": [
    "#groupby label and check # unique value\n",
    "print('List of all labels count:')\n",
    "data.groupby('Label')['CUSIP'].nunique()"
   ]
  },
  {
   "cell_type": "code",
   "execution_count": 6,
   "metadata": {},
   "outputs": [
    {
     "name": "stdout",
     "output_type": "stream",
     "text": [
      "Does row of nc1 equals # of nc1 in the data? False\n"
     ]
    }
   ],
   "source": [
    "valid = data.groupby('Label')['CUSIP'].nunique()['NC1(failing)'] == nc1.shape[0]\n",
    "print('Does row of nc1 equals # of nc1 in the data? {}'.format(valid))"
   ]
  },
  {
   "cell_type": "markdown",
   "metadata": {},
   "source": [
    "## Explore NC1"
   ]
  },
  {
   "cell_type": "code",
   "execution_count": 7,
   "metadata": {},
   "outputs": [
    {
     "name": "stdout",
     "output_type": "stream",
     "text": [
      "There are 263 of prospectus that have NC1\n",
      "On average 5.33 NC1 per prospectus that have NC1\n"
     ]
    }
   ],
   "source": [
    "count = nc1.groupby('Prospectus')['CUSIP'].nunique().count()\n",
    "print('There are ' + str(count) + ' of prospectus that have NC1')\n",
    "print(\"On average {:.2f} NC1 per prospectus that have NC1\".format(nc1.shape[0]/count))"
   ]
  },
  {
   "cell_type": "code",
   "execution_count": 8,
   "metadata": {},
   "outputs": [
    {
     "name": "stdout",
     "output_type": "stream",
     "text": [
      "Top 5 of the MTG_TRANCHE_TYP_LONG among NC1 are:\n"
     ]
    },
    {
     "data": {
      "text/plain": [
       "MTG_TRANCHE_TYP_LONG\n",
       "SUB,CSTR,NAS        474\n",
       "SUB,NAS             133\n",
       "MEZ,FLT,STEP        130\n",
       "MEZ,FLT,STEP,IRC     89\n",
       "SUB,FLT,STEP,IRC     55\n",
       "Name: CUSIP, dtype: int64"
      ]
     },
     "execution_count": 8,
     "metadata": {},
     "output_type": "execute_result"
    }
   ],
   "source": [
    "show_top = 5\n",
    "print('Top {} of the MTG_TRANCHE_TYP_LONG among NC1 are:'.format(show_top))\n",
    "nc1.groupby('MTG_TRANCHE_TYP_LONG')['CUSIP'].nunique().sort_values(ascending=False).head(show_top)"
   ]
  },
  {
   "cell_type": "code",
   "execution_count": 9,
   "metadata": {},
   "outputs": [
    {
     "name": "stdout",
     "output_type": "stream",
     "text": [
      "Top 5 of the MTG_TRANCHE_TYP_LONG among non-NC1s are:\n"
     ]
    },
    {
     "data": {
      "text/plain": [
       "MTG_TRANCHE_TYP_LONG\n",
       "MEZ,FLT,STEP,IRC    237\n",
       "FLT,STEP,IRC        221\n",
       "FLT,STEP            186\n",
       "MEZ,FLT,STEP        172\n",
       "SEQ,AS              158\n",
       "Name: CUSIP, dtype: int64"
      ]
     },
     "execution_count": 9,
     "metadata": {},
     "output_type": "execute_result"
    }
   ],
   "source": [
    "print('Top {} of the MTG_TRANCHE_TYP_LONG among non-NC1s are:'.format(show_top))\n",
    "data.loc[data['Label'] != 'NC1(failing)'].groupby('MTG_TRANCHE_TYP_LONG')['CUSIP'].nunique().sort_values(ascending=False).head(show_top)"
   ]
  },
  {
   "cell_type": "markdown",
   "metadata": {},
   "source": [
    "In 2004, MTG_TRANCHE_TYP_LONG among NC1 and non-NC1 data set, SUB (Subordinated), CSTR(Collateral Strip Rate), and NAS(Non-Accelerated Security) seems to be the top components. <br>\n",
    "\n",
    "In 2005, MTG_TRANCHE_TYP_LONG among NC1 and non-NC1 data set, FLT(Floater), STEP(Stepped Rate Bond), and MEZ(Mezzanine) seems to be the top components. <br>\n",
    "\n",
    "For NC1 in 2004, I couldn't really see big difference between both groups.<br>\n",
    "For NC1 in 2005, there is really big difference between both groups.<br>\n",
    "\n",
    "[See here for more info about MTG_TRANCHE_TYP](https://docs.google.com/spreadsheets/d/1MOwPnTr2owqPoJNy73U7UEc3z1RvtzELOCM0ZFxBJU8/edit?usp=sharing)"
   ]
  },
  {
   "cell_type": "code",
   "execution_count": 10,
   "metadata": {},
   "outputs": [
    {
     "data": {
      "text/plain": [
       "Index(['Year', 'PID', 'Prospectus', 'Class', 'norm_class', 'Name',\n",
       "       'Current_Balance', 'Zero-Balance Payment Period Number',\n",
       "       'Sum Principle Paid', 'MTG ORIG AMT', 'Maturity', 'CUSIP',\n",
       "       'MTG_TRANCHE_TYP_LONG', 'Moody Rating', 'Initial Moody Rating',\n",
       "       'Bloomberg Composite', 'HCLB', 'MTG INT SHRTFLL', 'HIST INTRST SHRTFLL',\n",
       "       'Label', 'NL_fail'],\n",
       "      dtype='object')"
      ]
     },
     "execution_count": 10,
     "metadata": {},
     "output_type": "execute_result"
    }
   ],
   "source": [
    "nc1.columns"
   ]
  },
  {
   "cell_type": "code",
   "execution_count": 11,
   "metadata": {},
   "outputs": [
    {
     "name": "stdout",
     "output_type": "stream",
     "text": [
      "Sum of MTG ORIG AMT among NC1 = 10417.03\n"
     ]
    }
   ],
   "source": [
    "total = nc1['MTG ORIG AMT'].sum()\n",
    "print('Sum of MTG ORIG AMT among NC1 = {:.2f}'.format(total))"
   ]
  },
  {
   "cell_type": "code",
   "execution_count": 12,
   "metadata": {},
   "outputs": [
    {
     "name": "stdout",
     "output_type": "stream",
     "text": [
      "Desciption of MTG ORIG AMT among NC1:\n"
     ]
    },
    {
     "data": {
      "text/plain": [
       "count    1402.000000\n",
       "mean        7.430118\n",
       "std         8.223513\n",
       "min         0.000100\n",
       "25%         2.160000\n",
       "50%         5.038000\n",
       "75%        10.025500\n",
       "max       151.617000\n",
       "Name: MTG ORIG AMT, dtype: float64"
      ]
     },
     "execution_count": 12,
     "metadata": {},
     "output_type": "execute_result"
    }
   ],
   "source": [
    "print('Desciption of MTG ORIG AMT among NC1:')\n",
    "nc1['MTG ORIG AMT'].describe()"
   ]
  },
  {
   "cell_type": "markdown",
   "metadata": {},
   "source": [
    "## To do\n",
    "- Look into Bloomberg (Paydown Infomation?)\n",
    "- Why is CUSIP duplicated in 2005?\n"
   ]
  },
  {
   "cell_type": "code",
   "execution_count": null,
   "metadata": {},
   "outputs": [],
   "source": []
  }
 ],
 "metadata": {
  "kernelspec": {
   "display_name": "Python 3",
   "language": "python",
   "name": "python3"
  },
  "language_info": {
   "codemirror_mode": {
    "name": "ipython",
    "version": 3
   },
   "file_extension": ".py",
   "mimetype": "text/x-python",
   "name": "python",
   "nbconvert_exporter": "python",
   "pygments_lexer": "ipython3",
   "version": "3.6.5"
  }
 },
 "nbformat": 4,
 "nbformat_minor": 2
}
